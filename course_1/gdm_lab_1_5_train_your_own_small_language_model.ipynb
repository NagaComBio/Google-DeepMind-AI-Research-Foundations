{
  "cells": [
    {
      "cell_type": "markdown",
      "metadata": {
        "id": "McySAWvt09wn"
      },
      "source": [
        "> <p><small><small>This Notebook is made available subject to the licence and terms set out in the <a href = \"http://www.github.com/google-deepmind/ai-foundations\">AI Research Foundations Github README file</a>."
      ]
    },
    {
      "cell_type": "markdown",
      "source": [
        "<img src=\"https://storage.googleapis.com/dm-educational/assets/ai_foundations/GDM-Labs-banner-image-C1-white-bg.png\">"
      ],
      "metadata": {
        "id": "bg_nGpxOxaPv"
      }
    },
    {
      "cell_type": "markdown",
      "metadata": {
        "id": "6bW1AyB_f7eo"
      },
      "source": [
        "# Lab: Train Your Own Small Language Model\n",
        "\n",
        "<a href='https://colab.research.google.com/github/google-deepmind/ai-foundations/blob/master/course_1/gdm_lab_1_5_train_your_own_small_language_model.ipynb' target='_parent'><img src='https://colab.research.google.com/assets/colab-badge.svg' alt='Open In Colab'/></a>     \n",
        "\n",
        "40 minutes\n",
        "\n",
        "Train a transformer language model on the Africa Galore dataset.\n"
      ]
    },
    {
      "cell_type": "markdown",
      "source": [
        "## Overview\n",
        "\n",
        "In this lab, you will make use of the data pre-processing steps that you have implememented in the previous lab and prepare the data to be used for training a transformer model. You will then train your own small language model on the Africa Galore dataset and explore its predictions. The model you will be training is referred to as a small language model because it has comparably fewer parameters (around 3.5 million instead of the approximately 1 billion of Gemma-1B) and will be trained on the small Africa Galore dataset.\n",
        "\n"
      ],
      "metadata": {
        "id": "md4FSU7h9dQR"
      }
    },
    {
      "cell_type": "markdown",
      "source": [
        "### What you will learn:\n",
        "\n",
        "By the end of this lab, you will know:\n",
        "\n",
        "* How to prepare a text dataset to be used for training a transformer model with Keras.\n",
        "* How to train and evaluate a small language model (SLM).\n"
      ],
      "metadata": {
        "id": "g8u6btAn9jc4"
      }
    },
    {
      "cell_type": "markdown",
      "source": [
        "### Tasks\n",
        "\n",
        "You will use an implementation of the transformer model written using [Keras](https://keras.io/). Keras is an open source deep learning framework that allows you to define neural network architectures and train models using these architectures. You will learn more about how to define models yourself in later courses. For now, you will use existing code to define the model and perform its training.\n",
        "\n",
        "\n",
        "**In this lab, you will**:\n",
        "* Load the dataset, tokenize it, and convert it to token IDs.\n",
        "* Pad the dataset such that all sequences have the same length.\n",
        "* Shuffle the examples in the dataset and group them into batches.\n",
        "* Transform the data into model inputs and model targets.\n",
        "* Train the transformer model.\n",
        "\n",
        "Note that this is quite a long lab since there are many steps that you have to go through for training a transformer language model and the training itself takes some time. If you are able to, we *highly recommend* running the code in this lab on a Colab instance with a GPU. See the section \"How to use Google Colaboratory (Colab)\" below for instructions on how to do this.\n",
        "\n"
      ],
      "metadata": {
        "id": "qIhcVxx0foVo"
      }
    },
    {
      "cell_type": "markdown",
      "source": [
        "## How to use Google Colaboratory (Colab)"
      ],
      "metadata": {
        "id": "NDWsJUGcf4Ru"
      }
    },
    {
      "cell_type": "markdown",
      "source": [
        "Google Colaboratory (also known as Google Colab) is a platform that allows you to run Python code in your browser. The code is written in **cells** that are excuted on a remote server.\n",
        "\n",
        "To run a cell, hover over a cell, and click on the `run` button to its left. The run button is the circle with the triangle (▶). Alternatively, you can also click on a cell and use the keyboard combination Ctrl+Return (or ⌘+Return if you are using a Mac).\n",
        "\n",
        "To try this out, run the following cell. This should print today's day of the week below it."
      ],
      "metadata": {
        "id": "wlNG_jg-39Zj"
      }
    },
    {
      "cell_type": "code",
      "source": [
        "from datetime import datetime\n",
        "print(f\"Today is {datetime.today():%A}.\")"
      ],
      "metadata": {
        "id": "UyTT6C0JhGBs",
        "outputId": "8964d2f0-719a-4c92-843f-838abf74d77e",
        "colab": {
          "base_uri": "https://localhost:8080/"
        }
      },
      "execution_count": 2,
      "outputs": [
        {
          "output_type": "stream",
          "name": "stdout",
          "text": [
            "Today is Sunday.\n"
          ]
        }
      ]
    },
    {
      "cell_type": "markdown",
      "source": [
        "Note that the *order in which you run the cells matters*. When you are working through a lab, make sure to always run *all* cells in order. Otherwise, the code might not work. If you take a break while working on a lab, Colab may disconnect you and in that case, you have to execute all cells again before  continuing your work. To make this easier, you can select the cell you are currently working on and then choose __Runtime → Run before__  from the menu above (or use the keyboard combination Ctrl/⌘ + F8). This will re-execute all cells before the current one."
      ],
      "metadata": {
        "id": "pbtgZxrpjm6j"
      }
    },
    {
      "cell_type": "markdown",
      "source": [
        "### Using Colab with a GPU\n",
        "\n",
        "A **GPU** is a special type of hardware that can significantly speed up some types of computations of machine learning models. Several of the activities in this lab will also run a lot faster if you run them on a GPU.\n",
        "\n",
        "Follow these steps to run the activities in this lab on a GPU:\n",
        "\n",
        "1.  In the top menu bar, click on **Runtime**.\n",
        "2.  Select **Change runtime type** from the dropdown menu.\n",
        "3.  In the pop-up window under **Hardware Accelerator**, select **GPU** (usually listed as `T4 GPU`).\n",
        "5.  Click **Save**.\n",
        "\n",
        "Your Colab session will now restart with GPU access.\n",
        "\n",
        "Note that access to GPUs is limited and at times, you may not be able to run this lab on a GPU. All activities will still work but they will run slower and you will have to wait longer for some of the cells to finish running.\n"
      ],
      "metadata": {
        "id": "qLvkcx5pUItk"
      }
    },
    {
      "cell_type": "markdown",
      "source": [
        "## Imports\n",
        "\n"
      ],
      "metadata": {
        "id": "WQQlDe0hL8AY"
      }
    },
    {
      "cell_type": "markdown",
      "source": [
        "In this lab, you will make use of the Keras package for defining and training the transformer model, the [Pandas](http://pandas.pydata.org) package for reading the dataset, and the [TensorFlow](https://tensorflow.org) package for shuffling the data and grouping it into batches. Run the following cell to import these packages."
      ],
      "metadata": {
        "id": "UPJE5CKOA2bJ"
      }
    },
    {
      "cell_type": "code",
      "execution_count": 3,
      "metadata": {
        "id": "sYqG7iVwXEX0"
      },
      "outputs": [],
      "source": [
        "%%capture\n",
        "!pip install \"git+https://github.com/google-deepmind/ai-foundations.git@main\"\n",
        "\n",
        "# Packages used.\n",
        "import os # Used for setting Keras configuration variables.\n",
        "os.environ[\"KERAS_BACKEND\"] = \"jax\" # Set a parameter for Keras.\n",
        "import re # Used for splitting text on whitespace.\n",
        "\n",
        "import keras # Used for defining an training the model.\n",
        "import pandas as pd # Used for loading the dataset.\n",
        "import tensorflow as tf # Used for shuffling the dataset.\n",
        "\n",
        "# Used for displaying nicer error messages.\n",
        "from IPython.display import display, HTML\n",
        "from ai_foundations import training # For training your model.\n",
        "from ai_foundations import generation # For prompting your model.\n",
        "from ai_foundations import visualizations # For visualizing probabilities.\n",
        "from ai_foundations.feedback.course_1 import slm # For providing feedback.\n",
        "\n",
        "# The following line provides configuration for Keras.\n",
        "keras.utils.set_random_seed(812)  # For Keras layers."
      ]
    },
    {
      "cell_type": "markdown",
      "metadata": {
        "id": "N1XAXcZ9S-4w"
      },
      "source": [
        "## Loading and tokenizing the dataset\n",
        "\n",
        "Load the dataset. As in previous labs, you will use the [Africa Galore](https://storage.googleapis.com/dm-educational/assets/ai_foundations/africa_galore.json) dataset to train the model."
      ]
    },
    {
      "cell_type": "code",
      "execution_count": 4,
      "metadata": {
        "id": "5mB31TuPSoWb",
        "outputId": "1f05ffbb-d1fe-449f-a928-8eca542c013c",
        "colab": {
          "base_uri": "https://localhost:8080/"
        }
      },
      "outputs": [
        {
          "output_type": "stream",
          "name": "stdout",
          "text": [
            "Loaded dataset with 232 paragraphs.\n"
          ]
        }
      ],
      "source": [
        "africa_galore = pd.read_json(\n",
        "    \"https://storage.googleapis.com/dm-educational/assets/ai_foundations/africa_galore.json\"\n",
        ")\n",
        "dataset = africa_galore[\"description\"].values\n",
        "print(\"Loaded dataset with\", dataset.shape[0], \"paragraphs.\")"
      ]
    },
    {
      "cell_type": "markdown",
      "metadata": {
        "id": "qsgXxQ8KGNfT"
      },
      "source": [
        "### Tokenization\n",
        "\n",
        "The following cell contains the  `SimpleWordTokenizer` class that you have encountered in the previous lab. You will use this class again to tokenize the dataset, prepare the vocabulary, and provide methods for translating tokens into token IDs and vice versa. Note that this version also adds special `<PAD>` and `<UNK>` tokens to the vocabulary. You will learn more about the purpose of these special tokens as part of this lab.\n",
        "\n",
        "Run the following cell to define the `SimpleWordTokenizer` and tokenize the Africa Galore dataset, and translate its tokens to IDs."
      ]
    },
    {
      "cell_type": "code",
      "execution_count": 5,
      "metadata": {
        "id": "LMK-adL0su6i"
      },
      "outputs": [],
      "source": [
        "class SimpleWordTokenizer:\n",
        "    \"\"\"A simple word tokenizer.\n",
        "\n",
        "    The tokenizer splits the text sequence based on whitespace, using the\n",
        "    `encode` method to convert the text into a sequence of indices and the\n",
        "    `decode` method to convert indices back into text.\n",
        "\n",
        "    The simple word tokenizer that can be initialized with a corpus or using a\n",
        "    provided vocabulary list\n",
        "\n",
        "    Typical usage example:\n",
        "\n",
        "        corpus = \"Hello there!\"\n",
        "        tokenizer = SimpleWordTokenizer(text)\n",
        "        print(tokenizer.encode('Hello'))\n",
        "\n",
        "    \"\"\"\n",
        "\n",
        "    # Define constants.\n",
        "    UNKNOWN_TOKEN = \"<UNK>\"\n",
        "    PAD_TOKEN = \"<PAD>\"\n",
        "\n",
        "    def __init__(self, corpus: list[str], vocabulary: list[str] | None = None):\n",
        "        \"\"\"Initializes the tokenizer with texts in corpus or with a vocabulary.\n",
        "\n",
        "        Args:\n",
        "          corpus: Input text dataset.\n",
        "          vocabulary: A pre-defined vocabulary. If None,\n",
        "              the vocabulary is automatically inferred from the texts.\n",
        "        \"\"\"\n",
        "\n",
        "        if vocabulary is None:\n",
        "            # Build the vocabulary from scratch.\n",
        "            if isinstance(corpus, str):\n",
        "                corpus = [corpus]\n",
        "\n",
        "            # Convert text sequence to tokens.\n",
        "            tokens = []\n",
        "            for text in corpus:\n",
        "                for token in self.space_tokenize(text):\n",
        "                    tokens.append(token)\n",
        "\n",
        "            # Create a vocabulary comprising of unique tokens.\n",
        "            vocabulary = self.build_vocabulary(tokens)\n",
        "\n",
        "            # Add special unknown and pad tokens to the vocabulary list.\n",
        "            self.vocabulary = (\n",
        "                [self.PAD_TOKEN] + vocabulary + [self.UNKNOWN_TOKEN]\n",
        "            )\n",
        "\n",
        "        else:\n",
        "            self.vocabulary = vocabulary\n",
        "\n",
        "        # Size of vocabulary.\n",
        "        self.vocabulary_size = len(self.vocabulary)\n",
        "\n",
        "        # Create token-to-index and index-to-token mappings.\n",
        "        self.token_to_index = {}\n",
        "        self.index_to_token = {}\n",
        "        # Loop through all tokens in the vocabulary. enumerate automatically\n",
        "        # assigns a unique index to each token.\n",
        "        for index, token in enumerate(self.vocabulary):\n",
        "            self.token_to_index[token] = index\n",
        "            self.index_to_token[index] = token\n",
        "\n",
        "        # Map the special tokens to their IDs.\n",
        "        self.pad_token_id = self.token_to_index[self.PAD_TOKEN]\n",
        "        self.unknown_token_id = self.token_to_index[self.UNKNOWN_TOKEN]\n",
        "\n",
        "    def space_tokenize(self, text: str) -> list[str]:\n",
        "        \"\"\"Splits a given text on whitespace into tokens.\n",
        "\n",
        "        Args:\n",
        "            text: Text to split on whitespace.\n",
        "\n",
        "        Returns:\n",
        "            List of tokens after splitting `text`.\n",
        "        \"\"\"\n",
        "\n",
        "        # Use re.split such that multiple spaces are treated as a single\n",
        "        # separator.\n",
        "        return re.split(\" +\", text)\n",
        "\n",
        "    def join_text(self, text_list: list[str]) -> str:\n",
        "        \"\"\"Combines a list of tokens into a single string.\n",
        "\n",
        "        The combined tokens, as a single string, are separated by spaces in the\n",
        "        string.\n",
        "\n",
        "        Args:\n",
        "            text_list: List of tokens to be joined.\n",
        "\n",
        "        Returns:\n",
        "            String with all tokens joined with a whitespace.\n",
        "\n",
        "        \"\"\"\n",
        "        return \" \".join(text_list)\n",
        "\n",
        "    def build_vocabulary(self, tokens: list[str]) -> list[str]:\n",
        "        \"\"\"Create a vocabulary list from the list of tokens.\n",
        "\n",
        "        Args:\n",
        "            tokens: The list of tokens in the dataset.\n",
        "\n",
        "        Returns:\n",
        "            List of unique tokens (vocabulary) in the dataset.\n",
        "        \"\"\"\n",
        "        return sorted(list(set(tokens)))\n",
        "\n",
        "    def encode(self, text: str) -> list[int]:\n",
        "        \"\"\"Encodes a text sequence into a list of indices.\n",
        "\n",
        "        Args:\n",
        "            text: The input text to be encoded.\n",
        "\n",
        "        Returns:\n",
        "            A list of indices corresponding to the tokens in the input text.\n",
        "        \"\"\"\n",
        "\n",
        "        # Convert tokens into indices.\n",
        "        indices = []\n",
        "        unk_index = self.token_to_index[self.UNKNOWN_TOKEN]\n",
        "        for token in self.space_tokenize(text):\n",
        "            token_index = self.token_to_index.get(token, unk_index)\n",
        "            indices.append(token_index)\n",
        "\n",
        "        return indices\n",
        "\n",
        "    def decode(self, indices: int | list[int]) -> str:\n",
        "        \"\"\"Decodes a list (or single index) of integers back into tokens.\n",
        "\n",
        "        Args:\n",
        "            indices: A single index or a list of indices to be\n",
        "                decoded into tokens.\n",
        "\n",
        "        Returns:\n",
        "            A string of decoded tokens corresponding to the input indices.\n",
        "        \"\"\"\n",
        "\n",
        "        # If a single integer is passed, convert it into a list.\n",
        "        if isinstance(indices, int):\n",
        "            indices = [indices]\n",
        "\n",
        "        # Map indices to tokens.\n",
        "        tokens = []\n",
        "        for index in indices:\n",
        "            token = self.index_to_token.get(index, self.unknown_token_id)\n",
        "            tokens.append(token)\n",
        "\n",
        "        # Join the decoded tokens into a single string.\n",
        "        return self.join_text(tokens)\n",
        "\n",
        "\n",
        "# Initialize the tokenizer. This will build the tokenizer's vocabulary with\n",
        "# all the tokens that appear in the dataset.\n",
        "tokenizer = SimpleWordTokenizer(dataset)\n",
        "\n",
        "# Translate all tokens to their corresponding IDs.\n",
        "encoded_tokens = []\n",
        "for text in dataset:\n",
        "    # Split text into tokens and translate the tokens to token IDs.\n",
        "    token_ids = tokenizer.encode(text)\n",
        "    encoded_tokens.append(token_ids)"
      ]
    },
    {
      "cell_type": "markdown",
      "metadata": {
        "id": "shQvu8OqIuGY"
      },
      "source": [
        "To verify that this process was successful, inspect the first ten token IDs in the first example."
      ]
    },
    {
      "cell_type": "code",
      "execution_count": 6,
      "metadata": {
        "id": "XWRFQkRFI1df",
        "outputId": "2d163c95-0fdd-4dea-ab9f-9554aeeb18e9",
        "colab": {
          "base_uri": "https://localhost:8080/"
        }
      },
      "outputs": [
        {
          "output_type": "execute_result",
          "data": {
            "text/plain": [
              "[814, 511, 985, 5092, 4802, 5183, 2800, 1363, 4792, 2134]"
            ]
          },
          "metadata": {},
          "execution_count": 6
        }
      ],
      "source": [
        "encoded_tokens[0][:10]"
      ]
    },
    {
      "cell_type": "markdown",
      "metadata": {
        "id": "38uEXAhL6Rmc"
      },
      "source": [
        "## Padding the dataset\n"
      ]
    },
    {
      "cell_type": "markdown",
      "metadata": {
        "id": "H2HzW94G7PVG"
      },
      "source": [
        "------\n",
        "> **ℹ️ Info: Padding and truncating**\n",
        ">\n",
        ">The input to transformer models (or deep learning models more generally) is a **matrix** where each row corresponds to the data for one example in the dataset. In the case of the language model you will be training, each paragraph from the Africa Galore dataset constitutes an example. The input should therefore be a matrix that has the IDs of every token in a paragraph. In this matrix, the first entry of a row should be the ID of the first token, the second entry should be the ID of the second token, the third entry should be the ID of the third token, and so on.\n",
        ">\n",
        ">However, the paragraphs in a dataset rarely all have exactly the same length. This causes a problem when you try to combine the data of multiple paragraphs into a matrix, since every row in a matrix must have the same number of entries.\n",
        ">\n",
        ">There are two common solutions to this problem:\n",
        ">1. You can use a special `<PAD>` token to ensure that all sequences have the same length. This way, you can pad shorter paragraphs to match the length of the longest paragraph. This is done by adding `<PAD>` tokens at the beginning or the end of the paragraph. This results in all paragraphs having exactly the same length so that they can be combined in one matrix.\n",
        ">2. Another option is to truncate paragraphs. That is, removing the tokens at the beginning or the end of a paragraph so that they have the length of the shortest paragraph. This, however, may remove a lot of information from the dataset. For example, if the shortest paragraph has only five tokens, then you would shorten every paragraph to five tokens and remove almost all tokens.\n",
        ">\n",
        "> It is also possible to combine both of these methods so that you choose a target length. That way, very long paragraphs that exceed this length are truncated and short paragraphs whose length is below the target length are padded.\n",
        ">\n",
        ">The combination of truncating and padding is what is usually done in practice. You will implement this in the next activity to prepare the data for training the model.\n",
        "------\n"
      ]
    },
    {
      "cell_type": "markdown",
      "metadata": {
        "id": "sWA-cd-K_ql3"
      },
      "source": [
        "### Coding Activity 1: Compute length statistics\n",
        "\n",
        "To get a sense of what the dataset looks like and how much padding is needed, compute some statstics of the length of the dataset.\n",
        "\n",
        "First, look at the length of the first paragraph:\n",
        "\n"
      ]
    },
    {
      "cell_type": "code",
      "execution_count": 7,
      "metadata": {
        "id": "e_RgRB6gvL6B",
        "outputId": "17992e84-0e65-430a-9c50-afc2e82dab9c",
        "colab": {
          "base_uri": "https://localhost:8080/"
        }
      },
      "outputs": [
        {
          "output_type": "stream",
          "name": "stdout",
          "text": [
            "Length of first paragraph: 118\n"
          ]
        }
      ],
      "source": [
        "print(f\"Length of first paragraph: {len(encoded_tokens[0]):,}\")"
      ]
    },
    {
      "cell_type": "markdown",
      "metadata": {
        "id": "oCEiSccJ9Y-3"
      },
      "source": [
        "------\n",
        "> 💻 **Your task:**\n",
        ">\n",
        "> Complete the following cell to compute the length of the shortest paragraph and the length of the longest paragraph.\n",
        ">\n",
        "> There are multiple ways you go about this. For example, you could write a loop that goes through all paragraphs in `encoded_tokens`. You could update variables for the shortest and longest paragraph length whenever you encounter a shorter or longer paragraph than previously seen.\n",
        ">\n",
        "> Alternatively, you can use the `min` and `max` functions in combination with the `len` function in Python. For example, if you have a list of lists `list_of_lists`, then\n",
        ">`min(list_of_lists, key=len)` returns the list in `list_of_lists` with the shortest list (or one of them if there are multiple that have the same length).\n",
        "------"
      ]
    },
    {
      "cell_type": "code",
      "execution_count": 15,
      "metadata": {
        "id": "LY2hke_k_LT0",
        "outputId": "ef0a70d3-31b8-493f-c420-9af86b2527df",
        "colab": {
          "base_uri": "https://localhost:8080/"
        }
      },
      "outputs": [
        {
          "output_type": "stream",
          "name": "stdout",
          "text": [
            "Length of the shortest paragraph is: 26\n",
            "Length of the longest paragraph is: 318\n"
          ]
        }
      ],
      "source": [
        "# Add your code to compute the length of the shortest paragraph here.\n",
        "shortest_paragraph_length = min([len(encoded_para) for encoded_para in encoded_tokens])\n",
        "\n",
        "# Add your code to compute the length of the longest paragraph here.\n",
        "longest_paragraph_length = max([len(encoded_para) for encoded_para in encoded_tokens])\n",
        "\n",
        "print(f\"Length of the shortest paragraph is:\", shortest_paragraph_length)\n",
        "print(f\"Length of the longest paragraph is:\", longest_paragraph_length)"
      ]
    },
    {
      "cell_type": "code",
      "source": [
        "# @title Run this cell to test your code\n",
        "\n",
        "slm.test_max_min_seqlen(\n",
        "    shortest_paragraph_length, longest_paragraph_length, encoded_tokens\n",
        ")"
      ],
      "metadata": {
        "cellView": "form",
        "id": "qVf0wHPuPV-3",
        "outputId": "ed555643-803e-4c7a-d00b-6a440d3f151a",
        "colab": {
          "base_uri": "https://localhost:8080/"
        }
      },
      "execution_count": 16,
      "outputs": [
        {
          "output_type": "stream",
          "name": "stdout",
          "text": [
            "✅ Nice! Your answer looks correct.\n"
          ]
        }
      ]
    },
    {
      "cell_type": "markdown",
      "metadata": {
        "id": "0c5Vsplt_L8b"
      },
      "source": [
        "You can now use this information to set the target length (`max_length`) for padding and truncating the paragraphs in your dataset. The cell below does this behind the scenes using the [`keras.preprocessing.sequence.pad_sequences`](https://github.com/keras-team/keras/blob/v3.10.0/keras/src/utils/sequence_utils.py#L12) function from the Keras package.\n",
        "\n",
        "Change the value below to different values, and observe how the list of token IDs for the first paragraph changes. What happens when you set `max_length` to a very small value? What happens when you set it to the length of the longest paragraph?\n",
        "\n"
      ]
    },
    {
      "cell_type": "code",
      "execution_count": 17,
      "metadata": {
        "id": "m-AjAUdVvDjm",
        "cellView": "form",
        "outputId": "899f007a-de01-4747-b8f8-946edd9b91e0",
        "colab": {
          "base_uri": "https://localhost:8080/",
          "height": 564
        }
      },
      "outputs": [
        {
          "output_type": "display_data",
          "data": {
            "text/plain": [
              "<IPython.core.display.HTML object>"
            ],
            "text/html": [
              "<p><strong>Note:</strong> The longest paragraph has 318 tokens, but <code>max_length</code> is set to 300. Paragraphs longer than <code>max_length</code> will be truncated.</p><p></p>"
            ]
          },
          "metadata": {}
        },
        {
          "output_type": "stream",
          "name": "stdout",
          "text": [
            "New length of first paragraph: 300 \n",
            "\n",
            "Padding makes the length of all sequences the same as the specified `max_length`.\n",
            "Notice the padded token IDs {tokenizer.pad_token_id} appearing at the end of the sequence.\n",
            "\n",
            "Padded tokens of first paragraph:\n",
            " [ 814  511  985 5092 4802 5183 2800 1363 4792 2134 2856 4792 1584 5092\n",
            " 2088  814 1134 3043 2922  912 2821  170 2623 4792 2023 3807 3576  912\n",
            " 1653 3772 4792 2775 1244  912 4409 3280 1030 4792 1158 3049 1992  912\n",
            " 1868 2486 2437  135 5189 3422  445 3388 2078 4849 4792 3407 2706 1259\n",
            " 4692 2856 4839 5183 4792 4078  814 3406 4259 4849 2389 4831 2707  912\n",
            " 3821 1829 3522 2134 1030 2955  185 1076 2707 3683 5143 1849 4343 1030\n",
            " 1546 1446 4983 2856 4792 2876 4078  814 3406 5092 3366 4788 2968 2151\n",
            " 2938 5092  912 1450 3522 3101  912 1672 4849 4793 4295 2721  912 5036\n",
            " 2224 3522 4792 4437 3522  513    0    0    0    0    0    0    0    0\n",
            "    0    0    0    0    0    0    0    0    0    0    0    0    0    0\n",
            "    0    0    0    0    0    0    0    0    0    0    0    0    0    0\n",
            "    0    0    0    0    0    0    0    0    0    0    0    0    0    0\n",
            "    0    0    0    0    0    0    0    0    0    0    0    0    0    0\n",
            "    0    0    0    0    0    0    0    0    0    0    0    0    0    0\n",
            "    0    0    0    0    0    0    0    0    0    0    0    0    0    0\n",
            "    0    0    0    0    0    0    0    0    0    0    0    0    0    0\n",
            "    0    0    0    0    0    0    0    0    0    0    0    0    0    0\n",
            "    0    0    0    0    0    0    0    0    0    0    0    0    0    0\n",
            "    0    0    0    0    0    0    0    0    0    0    0    0    0    0\n",
            "    0    0    0    0    0    0    0    0    0    0    0    0    0    0\n",
            "    0    0    0    0    0    0    0    0    0    0    0    0    0    0\n",
            "    0    0    0    0    0    0]\n"
          ]
        }
      ],
      "source": [
        "# @title Set `max_length` for padding and truncating data.\n",
        "\n",
        "max_length = 300  # @param {type: \"number\"}\n",
        "\n",
        "if max_length <= 0:\n",
        "    display(\n",
        "        HTML(\n",
        "            f\"<h3>Error:</h3><p>Max length must be greater than 0. Please\"\n",
        "            f\" increase <code>max_length</code>.</p><p></p>\"\n",
        "        )\n",
        "    )\n",
        "\n",
        "elif max_length > longest_paragraph_length:\n",
        "    display(\n",
        "        HTML(\n",
        "            f\"<h3>Error:</h3><p>The padding token <code>\"\n",
        "            f\" {tokenizer.pad_token_id}</code> will be added to all\"\n",
        "            f\" sequences - you probably don't want that. Please reduce\"\n",
        "            f\" <code>max_length</code>.</p><p></p>\"\n",
        "        )\n",
        "    )\n",
        "\n",
        "else:\n",
        "    if max_length < longest_paragraph_length:\n",
        "        display(\n",
        "            HTML(\n",
        "                f\"<p><strong>Note:</strong> The longest paragraph has\"\n",
        "                f\" {longest_paragraph_length} tokens,\"\n",
        "                f\" but <code>max_length</code> is set to {max_length}.\"\n",
        "                f\" Paragraphs longer than <code>max_length</code> will be\"\n",
        "                \" truncated.</p><p></p>\"\n",
        "            )\n",
        "        )\n",
        "\n",
        "    padded_sequences = keras.preprocessing.sequence.pad_sequences(\n",
        "        encoded_tokens,\n",
        "        maxlen=max_length,\n",
        "        padding=\"post\",\n",
        "        truncating=\"post\",\n",
        "        value=tokenizer.pad_token_id,\n",
        "    )\n",
        "\n",
        "    print(\"New length of first paragraph:\", len(padded_sequences[0]), \"\\n\")\n",
        "\n",
        "    print(\n",
        "        \"Padding makes the length of all sequences the same as the specified\"\n",
        "        \" `max_length`.\"\n",
        "    )\n",
        "\n",
        "    print(\n",
        "        \"Notice the padded token IDs {tokenizer.pad_token_id} appearing at the\"\n",
        "        f\" end of the sequence.\\n\"\n",
        "    )\n",
        "    print(\"Padded tokens of first paragraph:\\n\", padded_sequences[0])"
      ]
    },
    {
      "cell_type": "markdown",
      "metadata": {
        "id": "81N0QsKuEPhq"
      },
      "source": [
        "## Prepare input and target\n",
        "\n",
        "Recall that the task of a language model is to predict the next token given a context of previous tokens. In the case of n-gram models, you could \"teach\" the model to do this by counting n-grams in the corpus and directly computing the probabilities from the n-gram counts.\n",
        "\n",
        "Transformers have a more involved training procedure. They repeatedly make guesses of what the next token should be. If they get this guess wrong, the training procedure updates the model parameters. That way, the model is more likely to make a correct guess next time.\n",
        "\n",
        "For this training procedure, you have to prepare the data such that you have a separate *input* and *target* dataset:\n",
        "\n",
        "* **Input**: The input is a sequence of tokens that is passed into the transformer model. This may be a part of a paragraph, a full paragraph, or even multiple paragraphs, depending on how the data is structured. The input will contain everything but the last token since there is no next token for the last token.\n",
        "  \n",
        "* **Target**: The target sequence is what you want the model to predict from the input. The target will be the same as the input sequence, but *shifted left* by one token. This means the target will always contain the next token that should follow the input sequence. The target sequence will contain everything but the first word. That is because the transformer always needs at least one token as input, so it will start by predicting the next word.\n",
        "\n",
        "For example, if your dataset consists of the sentence \"Table Mountain is beautiful,\" the corresponding input and target sequences would look as follows:\n",
        "* Input: `[\"Table\", \"Mountain\", \"is\"]` (last token removed).\n",
        "* Target: `[\"Mountain\", \"is\", \"beautiful\"]` (shifted by one token).\n",
        "\n",
        "As mentioned above, the input sequence and the target sequence will actually be the corresponding token IDs instead of the raw tokens. The raw tokens are included here to make the example more readable."
      ]
    },
    {
      "cell_type": "markdown",
      "source": [
        "Run the following cell to prepare the input and target sequence for training the transformer model."
      ],
      "metadata": {
        "id": "wfKPIH2uSzix"
      }
    },
    {
      "cell_type": "code",
      "execution_count": 18,
      "metadata": {
        "id": "JLmeuOr2obyr"
      },
      "outputs": [],
      "source": [
        "# Prepare input and target for the transformer model.\n",
        "# For each example, extract all tokens except the last one.\n",
        "input_sequences = padded_sequences[:, :-1]\n",
        "# For each example, extract all tokens except the first one.\n",
        "target_sequences = padded_sequences[:, 1:]"
      ]
    },
    {
      "cell_type": "markdown",
      "metadata": {
        "id": "Xc2IrUF-ovZN"
      },
      "source": [
        "To check that the input sequence and the target sequence have been properly prepared, print the first ten tokens in the input and the target sequence."
      ]
    },
    {
      "cell_type": "code",
      "execution_count": 19,
      "metadata": {
        "id": "QCAQlnbrowAz",
        "outputId": "beaf0279-8e25-4552-f63d-4d059e47f479",
        "colab": {
          "base_uri": "https://localhost:8080/"
        }
      },
      "outputs": [
        {
          "output_type": "stream",
          "name": "stdout",
          "text": [
            "First 10 token IDs in first input sequence: [ 814  511  985 5092 4802 5183 2800 1363 4792 2134]\n",
            "First 10 tokens in first input sequence: The Lagos air was thick with humidity, but the energy\n",
            "\n",
            "\n",
            "First 10 token IDs in first target sequence: [ 511  985 5092 4802 5183 2800 1363 4792 2134 2856]\n",
            "First 10 tokens in target sequence: Lagos air was thick with humidity, but the energy in\n"
          ]
        }
      ],
      "source": [
        "print(\"First 10 token IDs in first input sequence:\", input_sequences[0, :10])\n",
        "print(\n",
        "    \"First 10 tokens in first input sequence:\",\n",
        "    tokenizer.decode(input_sequences[0, :10]),\n",
        ")\n",
        "\n",
        "print(\"\\n\")\n",
        "\n",
        "print(\"First 10 token IDs in first target sequence:\", target_sequences[0, :10])\n",
        "print(\n",
        "    \"First 10 tokens in target sequence:\",\n",
        "    tokenizer.decode(target_sequences[0, :10])\n",
        ")"
      ]
    },
    {
      "cell_type": "markdown",
      "metadata": {
        "id": "DUfcnq9qtErc"
      },
      "source": [
        "You should see in the output above that the target sequence is the input sequence shifted by one token to the left."
      ]
    },
    {
      "cell_type": "markdown",
      "metadata": {
        "id": "107RTtKWCpV2"
      },
      "source": [
        "When you set the maximum paragraph length `max_length` previously, you were considering all tokens, including the first and the last token of each paragraph. However, in the `input_sequences`, you removed the first token from each paragraph. In the `target_sequences`, you removed the last token. So, the maximum length of the data in `input_sequences` and `target_sequences` is now one token shorter.\n",
        "\n",
        "Run the following cell to update the `max_length` variable. This variable will be used as a parameter of the transformer model and needs to accurately reflect what the length of each (padded) paragraph in your input data is."
      ]
    },
    {
      "cell_type": "code",
      "execution_count": 20,
      "metadata": {
        "id": "NWSao54yCk9M"
      },
      "outputs": [],
      "source": [
        "max_length = input_sequences.shape[1]"
      ]
    },
    {
      "cell_type": "markdown",
      "metadata": {
        "id": "HUty-eHlCTXy"
      },
      "source": [
        "## Shuffle the dataset and specify the batch size"
      ]
    },
    {
      "cell_type": "markdown",
      "metadata": {
        "id": "NutUoSXCSMQI"
      },
      "source": [
        "\n",
        "-------\n",
        "> **ℹ️ Info: The purpose of shuffling and batches**\n",
        ">\n",
        ">The final step before you can train your small language model is to split the data into groups of a handful of paragraphs, called **batches**. Furthermore, there is often some order in your data. For example, in the Africa Galore dataset, all examples concerning food appear one after each other. When training a model, however, it is generally best to include a very diverse set of paragraphs in one batch. This can be achieved by **shuffling** the data in the dataset so that all paragraphs appear in random order before splitting them up into batches. Note that the order of tokens within a paragraph must remain intact since you would end up with word puzzles otherwise.\n",
        ">\n",
        ">For splitting the dataset into batches, you need to define the **batch size**, that is, the number of paragraphs that should be included in one batch. Increasing the batch size usually speeds up training of the model and can also lead to better models. At the same time, however, larger batch sizes require more memory. If you set the batch size too large, you may get \"out of memory\" errors that indicate that you do not have enough memory available to train the model. You will learn more about dealing with methods for reducing memory in later courses.\n",
        ">\n",
        ">The figure below shows a dataset with seven paragraphs. Each paragraph is padded to `max_length`. In this case, it is set to the length of the longest paragraph. The dataset is then shuffled and split into batches of size 3. Note that the final batch only contains one paragraph, since the total number of paragraphs is 7 and not divisible by 3.\n",
        "> <img src='https://storage.googleapis.com/dm-educational/assets/ai_foundations/evolve_graphic.png' width='1000'>\n",
        "------\n"
      ]
    },
    {
      "cell_type": "markdown",
      "metadata": {
        "id": "9yazOaI7XVlx"
      },
      "source": [
        "The cell below implements the shuffling of the dataset and splitting it into batches. The result of this is a list of matrices referred to as **tensors**. Each matrix corresponds to a batch and contains all the token IDs for all paragraphs in that batch."
      ]
    },
    {
      "cell_type": "code",
      "execution_count": 21,
      "metadata": {
        "id": "WQg55VpOw-2j",
        "outputId": "f26e600d-aea3-4e42-8666-632a148b2a13",
        "colab": {
          "base_uri": "https://localhost:8080/"
        }
      },
      "outputs": [
        {
          "output_type": "stream",
          "name": "stdout",
          "text": [
            "(<tf.Tensor: shape=(32, 299), dtype=int32, numpy=\n",
            "array([[ 719, 5092, 4815, ...,    0,    0,    0],\n",
            "       [ 797,  597,  912, ...,    0,    0,    0],\n",
            "       [ 470, 4084, 2932, ...,    0,    0,    0],\n",
            "       ...,\n",
            "       [ 814, 4079, 1171, ...,    0,    0,    0],\n",
            "       [ 814, 3085, 2932, ...,    0,    0,    0],\n",
            "       [ 358, 1605, 2935, ...,    0,    0,    0]], dtype=int32)>, <tf.Tensor: shape=(32, 299), dtype=int32, numpy=\n",
            "array([[5092, 4815, 4403, ...,    0,    0,    0],\n",
            "       [ 597,  912, 2364, ...,    0,    0,    0],\n",
            "       [4084, 2932,  912, ...,    0,    0,    0],\n",
            "       ...,\n",
            "       [4079, 1171, 3522, ...,    0,    0,    0],\n",
            "       [3085, 2932, 4792, ...,    0,    0,    0],\n",
            "       [1605, 2935, 2968, ...,    0,    0,    0]], dtype=int32)>)\n"
          ]
        }
      ],
      "source": [
        "# Create TensorFlow dataset to prepare sequences.\n",
        "tf_dataset = tf.data.Dataset.from_tensor_slices((input_sequences, target_sequences))\n",
        "\n",
        "# Randomly shuffle the dataset.\n",
        "# The buffer_size determines how many examples from the dataset\n",
        "# are held in memory before shuffling.\n",
        "# If you are working with a very large dataset,\n",
        "# reduce the buffer_size as needed.\n",
        "tf_dataset = tf_dataset.shuffle(buffer_size=len(input_sequences))\n",
        "\n",
        "# Specify batch size.\n",
        "batch_size = 32  # @param {type: \"number\"}\n",
        "\n",
        "# Create batches.\n",
        "batches = tf_dataset.batch(batch_size)\n",
        "\n",
        "for batch in batches.take(1):\n",
        "    print(batch)"
      ]
    },
    {
      "cell_type": "markdown",
      "metadata": {
        "id": "rVELGmoNmR3g"
      },
      "source": [
        "Run the following cell to count the total number of batches:"
      ]
    },
    {
      "cell_type": "code",
      "execution_count": 22,
      "metadata": {
        "id": "0sc2lVvlktGH",
        "outputId": "c47d0caa-5003-4221-d4c0-e72095f25535",
        "colab": {
          "base_uri": "https://localhost:8080/"
        }
      },
      "outputs": [
        {
          "output_type": "stream",
          "name": "stdout",
          "text": [
            "Total number of batches is: 8\n"
          ]
        }
      ],
      "source": [
        "total_batches = 0\n",
        "for batch in batches:\n",
        "    total_batches += 1\n",
        "print(\"Total number of batches is:\", total_batches)"
      ]
    },
    {
      "cell_type": "markdown",
      "metadata": {
        "id": "6nwdEqyCfA_t"
      },
      "source": [
        "## Train a small language model (SLM)"
      ]
    },
    {
      "cell_type": "markdown",
      "metadata": {
        "id": "f4dsdg-DtW64"
      },
      "source": [
        "You have now done all the preparatory work and are ready to train your small language model. As mentioned above, this model has around 3.5 million parameters. It is therefore  a lot smaller than so-called large language models that are used in production. For example, the Google Gemini model has billions of parameters and was trained on a much bigger dataset than the Africa Galore dataset.\n",
        "\n",
        "The size of the transformer model and the amount of training data has a strong impact on its performance. Larger models with more parameters have the capacity to learn more complex patterns and deliver better accuracy. However, they also require more computational resources, memory, and processing power. This can lead to longer training times i.e., how long the model needs to update to reach optimal performance, and higher costs. You would not be able to train a very large model in a Colab notebook. Therefore, you will be training a much smaller model here. Despite this, the overall process for training a large language model is the same as the process for training a small language model.\n",
        "\n",
        "------\n",
        "> **ℹ️ Info: Parameters of a transformer model**\n",
        ">\n",
        "> **Parameters** are a set of numbers that guide the model to perform whatever task it was trained to do. In the case of transformer models, the parameters are less interpretable. They are often a very large collection of numbers that determine the model behavior.\n",
        ">\n",
        "> The parameters of a transformer model are updated after processing each batch of paragraphs. At the start of the training, the parameters are intialized with random numbers.\n",
        ">Models are then usually trained by processing the data multiple times. Going through the data once is known as an **iteration** or **epoch**. During each training iteration, the parameters are updated so that they lead to better predictions of the next token.\n",
        "------"
      ]
    },
    {
      "cell_type": "markdown",
      "metadata": {
        "id": "oZAHvAaAAvKI"
      },
      "source": [
        "### Initialize the model\n",
        "\n",
        "The `create_model` function used below builds a transformer model. It takes two parameters:\n",
        "\n",
        "* `max_length`: The maximum length of a paragraph in the dataset (which you set above). The model will only be able to process sequences up to this length.\n",
        "* `vocabulary_size`: The size of the vocabulary. That is the number of unique tokens in the dataset. This is used in two ways. Firstly, it is used to determine the number of unique inputs the model should expect. Secondly, it determines how many different tokens the model can predict. You can get this information from the tokenizer that you defined above by using its `vocabulary_size` property.\n",
        "* `learning_rate`: How quickly the parameters should be updated. Setting this to a higher value can speed up training but may result in a worse model. Setting this to a lower value likely improves how the model learns but may slow down training. For now, you do not have to change this value and you will learn more about this setting in later courses.\n",
        "\n"
      ]
    },
    {
      "cell_type": "code",
      "execution_count": 23,
      "metadata": {
        "id": "iNGqssFqlzqE"
      },
      "outputs": [],
      "source": [
        "model = training.create_model(\n",
        "    max_length=max_length,\n",
        "    vocabulary_size=tokenizer.vocabulary_size,\n",
        "    learning_rate=1e-4\n",
        ")"
      ]
    },
    {
      "cell_type": "markdown",
      "metadata": {
        "id": "tVA4N5N9nAwB"
      },
      "source": [
        "### Initialize a callback function\n",
        "\n",
        "Training can take a while. You want to make sure that the model predictions actually get better over time. One way to do this is to define a **callback function** that is used to regularly print what the model would generate for one prompt.\n",
        "\n",
        "For example, the callback function defined in the following cell will print ten tokens for the prompt \"Abeni,\" after every 10 training iterations."
      ]
    },
    {
      "cell_type": "code",
      "execution_count": 24,
      "metadata": {
        "collapsed": true,
        "id": "1GhWqSRVm_ql"
      },
      "outputs": [],
      "source": [
        "prompt = \"Abeni,\"\n",
        "prompt_ids = tokenizer.encode(prompt)\n",
        "text_gen_callback = training.TextGenerator(\n",
        "    max_tokens=10, start_tokens=prompt_ids, tokenizer=tokenizer, print_every=10\n",
        ")"
      ]
    },
    {
      "cell_type": "markdown",
      "metadata": {
        "id": "1P_McuozGX6R"
      },
      "source": [
        "### Run the training\n",
        "\n",
        "Run the following cell to train the model. As mentioned above, the training process updates the model parameter after processing each batch. This is known as a step in the training process.\n",
        "\n",
        "An epoch involves processing all batches in the dataset. Before training the model, you have to set the number of times the training process should process the datset. This is done by setting the number of epochs (`num_epochs`).\n",
        "\n",
        "You will likely get the best results if you train the model for at least 200 epochs. But if training is taking a long time, you can reduce the number of epochs. If the model does not perform well after 200 epochs, you can train it for additional epochs by adjusting the number below and re-running the cell. This will continue training your model.\n",
        "\n",
        "If you want to reset the training, re-run the previous cells before running the cell below."
      ]
    },
    {
      "cell_type": "code",
      "execution_count": 25,
      "metadata": {
        "id": "HiJciyOo5gYU",
        "outputId": "d18d3ffa-a7b3-4004-f3df-fadf145c8f73",
        "colab": {
          "base_uri": "https://localhost:8080/"
        }
      },
      "outputs": [
        {
          "output_type": "stream",
          "name": "stdout",
          "text": [
            "Epoch 1/200\n",
            "8/8 - 12s - 2s/step - loss: 8.5638\n",
            "Epoch 2/200\n",
            "8/8 - 3s - 389ms/step - loss: 8.3509\n",
            "Epoch 3/200\n",
            "8/8 - 0s - 38ms/step - loss: 8.1503\n",
            "Epoch 4/200\n",
            "8/8 - 0s - 40ms/step - loss: 7.9671\n",
            "Epoch 5/200\n",
            "8/8 - 0s - 40ms/step - loss: 7.7983\n",
            "Epoch 6/200\n",
            "8/8 - 0s - 39ms/step - loss: 7.6483\n",
            "Epoch 7/200\n",
            "8/8 - 0s - 38ms/step - loss: 7.5125\n",
            "Epoch 8/200\n",
            "8/8 - 0s - 39ms/step - loss: 7.3903\n",
            "Epoch 9/200\n",
            "8/8 - 0s - 39ms/step - loss: 7.2843\n",
            "Epoch 10/200\n",
            "Generated text:\n",
            " Abeni, coat was rituals function. them formed promoting Toubab, salt. individual. \n",
            "\n",
            "8/8 - 3s - 329ms/step - loss: 7.1848\n",
            "Epoch 11/200\n",
            "8/8 - 0s - 49ms/step - loss: 7.0995\n",
            "Epoch 12/200\n",
            "8/8 - 0s - 39ms/step - loss: 7.0234\n",
            "Epoch 13/200\n",
            "8/8 - 0s - 38ms/step - loss: 6.9563\n",
            "Epoch 14/200\n",
            "8/8 - 0s - 40ms/step - loss: 6.8934\n",
            "Epoch 15/200\n",
            "8/8 - 0s - 38ms/step - loss: 6.8387\n",
            "Epoch 16/200\n",
            "8/8 - 0s - 39ms/step - loss: 6.7891\n",
            "Epoch 17/200\n",
            "8/8 - 0s - 39ms/step - loss: 6.7382\n",
            "Epoch 18/200\n",
            "8/8 - 0s - 40ms/step - loss: 6.6864\n",
            "Epoch 19/200\n",
            "8/8 - 0s - 39ms/step - loss: 6.6352\n",
            "Epoch 20/200\n",
            "Generated text:\n",
            " Abeni, representing Banku communities, is light due of Africa, between vast \n",
            "\n",
            "8/8 - 0s - 55ms/step - loss: 6.5831\n",
            "Epoch 21/200\n",
            "8/8 - 0s - 39ms/step - loss: 6.5243\n",
            "Epoch 22/200\n",
            "8/8 - 0s - 39ms/step - loss: 6.4663\n",
            "Epoch 23/200\n",
            "8/8 - 0s - 41ms/step - loss: 6.4044\n",
            "Epoch 24/200\n",
            "8/8 - 0s - 39ms/step - loss: 6.3356\n",
            "Epoch 25/200\n",
            "8/8 - 0s - 39ms/step - loss: 6.2673\n",
            "Epoch 26/200\n",
            "8/8 - 0s - 40ms/step - loss: 6.1970\n",
            "Epoch 27/200\n",
            "8/8 - 0s - 40ms/step - loss: 6.1174\n",
            "Epoch 28/200\n",
            "8/8 - 0s - 39ms/step - loss: 6.0459\n",
            "Epoch 29/200\n",
            "8/8 - 0s - 40ms/step - loss: 5.9653\n",
            "Epoch 30/200\n",
            "Generated text:\n",
            " Abeni, muscle as the role need African grip their cat juiciest, \n",
            "\n",
            "8/8 - 0s - 61ms/step - loss: 5.8814\n",
            "Epoch 31/200\n",
            "8/8 - 0s - 39ms/step - loss: 5.8072\n",
            "Epoch 32/200\n",
            "8/8 - 0s - 40ms/step - loss: 5.7211\n",
            "Epoch 33/200\n",
            "8/8 - 0s - 41ms/step - loss: 5.6432\n",
            "Epoch 34/200\n",
            "8/8 - 0s - 39ms/step - loss: 5.5657\n",
            "Epoch 35/200\n",
            "8/8 - 0s - 40ms/step - loss: 5.4839\n",
            "Epoch 36/200\n",
            "8/8 - 0s - 41ms/step - loss: 5.4081\n",
            "Epoch 37/200\n",
            "8/8 - 0s - 40ms/step - loss: 5.3362\n",
            "Epoch 38/200\n",
            "8/8 - 0s - 40ms/step - loss: 5.2601\n",
            "Epoch 39/200\n",
            "8/8 - 0s - 41ms/step - loss: 5.1957\n",
            "Epoch 40/200\n",
            "Generated text:\n",
            " Abeni, has a fiery porridge), hundreds of coated nutritious Highlands onions, \n",
            "\n",
            "8/8 - 0s - 55ms/step - loss: 5.1286\n",
            "Epoch 41/200\n",
            "8/8 - 0s - 39ms/step - loss: 5.0624\n",
            "Epoch 42/200\n",
            "8/8 - 0s - 40ms/step - loss: 5.0003\n",
            "Epoch 43/200\n",
            "8/8 - 0s - 44ms/step - loss: 4.9339\n",
            "Epoch 44/200\n",
            "8/8 - 0s - 39ms/step - loss: 4.8752\n",
            "Epoch 45/200\n",
            "8/8 - 0s - 40ms/step - loss: 4.8131\n",
            "Epoch 46/200\n",
            "8/8 - 0s - 41ms/step - loss: 4.7578\n",
            "Epoch 47/200\n",
            "8/8 - 0s - 40ms/step - loss: 4.6976\n",
            "Epoch 48/200\n",
            "8/8 - 0s - 40ms/step - loss: 4.6367\n",
            "Epoch 49/200\n",
            "8/8 - 0s - 41ms/step - loss: 4.5875\n",
            "Epoch 50/200\n",
            "Generated text:\n",
            " Abeni, consuming prepared note. are activity being a mildly Fulani foods \n",
            "\n",
            "8/8 - 0s - 56ms/step - loss: 4.5307\n",
            "Epoch 51/200\n",
            "8/8 - 0s - 39ms/step - loss: 4.4802\n",
            "Epoch 52/200\n",
            "8/8 - 0s - 40ms/step - loss: 4.4288\n",
            "Epoch 53/200\n",
            "8/8 - 0s - 44ms/step - loss: 4.3757\n",
            "Epoch 54/200\n",
            "8/8 - 0s - 40ms/step - loss: 4.3202\n",
            "Epoch 55/200\n",
            "8/8 - 0s - 41ms/step - loss: 4.2748\n",
            "Epoch 56/200\n",
            "8/8 - 0s - 41ms/step - loss: 4.2225\n",
            "Epoch 57/200\n",
            "8/8 - 0s - 41ms/step - loss: 4.1771\n",
            "Epoch 58/200\n",
            "8/8 - 0s - 40ms/step - loss: 4.1265\n",
            "Epoch 59/200\n",
            "8/8 - 0s - 41ms/step - loss: 4.0749\n",
            "Epoch 60/200\n",
            "Generated text:\n",
            " Abeni, a celebration of more countryside. West vast receives small hidden \n",
            "\n",
            "8/8 - 0s - 56ms/step - loss: 4.0328\n",
            "Epoch 61/200\n",
            "8/8 - 0s - 40ms/step - loss: 3.9887\n",
            "Epoch 62/200\n",
            "8/8 - 0s - 40ms/step - loss: 3.9448\n",
            "Epoch 63/200\n",
            "8/8 - 0s - 43ms/step - loss: 3.8994\n",
            "Epoch 64/200\n",
            "8/8 - 0s - 40ms/step - loss: 3.8554\n",
            "Epoch 65/200\n",
            "8/8 - 0s - 41ms/step - loss: 3.8111\n",
            "Epoch 66/200\n",
            "8/8 - 0s - 42ms/step - loss: 3.7669\n",
            "Epoch 67/200\n",
            "8/8 - 0s - 41ms/step - loss: 3.7269\n",
            "Epoch 68/200\n",
            "8/8 - 0s - 41ms/step - loss: 3.6772\n",
            "Epoch 69/200\n",
            "8/8 - 0s - 41ms/step - loss: 3.6369\n",
            "Epoch 70/200\n",
            "Generated text:\n",
            " Abeni, intellectual teacher, tunes Bamako craved at a cappella 'Big (South \n",
            "\n",
            "8/8 - 0s - 55ms/step - loss: 3.5938\n",
            "Epoch 71/200\n",
            "8/8 - 0s - 40ms/step - loss: 3.5565\n",
            "Epoch 72/200\n",
            "8/8 - 0s - 40ms/step - loss: 3.5127\n",
            "Epoch 73/200\n",
            "8/8 - 0s - 43ms/step - loss: 3.4771\n",
            "Epoch 74/200\n",
            "8/8 - 0s - 41ms/step - loss: 3.4342\n",
            "Epoch 75/200\n",
            "8/8 - 0s - 40ms/step - loss: 3.3955\n",
            "Epoch 76/200\n",
            "8/8 - 0s - 42ms/step - loss: 3.3588\n",
            "Epoch 77/200\n",
            "8/8 - 0s - 41ms/step - loss: 3.3172\n",
            "Epoch 78/200\n",
            "8/8 - 0s - 41ms/step - loss: 3.2792\n",
            "Epoch 79/200\n",
            "8/8 - 0s - 41ms/step - loss: 3.2438\n",
            "Epoch 80/200\n",
            "Generated text:\n",
            " Abeni, a N'Dour useful a plate and Zimbabwe. arranging cooked grilled \n",
            "\n",
            "8/8 - 0s - 57ms/step - loss: 3.2034\n",
            "Epoch 81/200\n",
            "8/8 - 0s - 40ms/step - loss: 3.1664\n",
            "Epoch 82/200\n",
            "8/8 - 0s - 41ms/step - loss: 3.1316\n",
            "Epoch 83/200\n",
            "8/8 - 0s - 45ms/step - loss: 3.0946\n",
            "Epoch 84/200\n",
            "8/8 - 0s - 41ms/step - loss: 3.0592\n",
            "Epoch 85/200\n",
            "8/8 - 0s - 41ms/step - loss: 3.0217\n",
            "Epoch 86/200\n",
            "8/8 - 0s - 44ms/step - loss: 2.9903\n",
            "Epoch 87/200\n",
            "8/8 - 0s - 41ms/step - loss: 2.9547\n",
            "Epoch 88/200\n",
            "8/8 - 0s - 41ms/step - loss: 2.9159\n",
            "Epoch 89/200\n",
            "8/8 - 0s - 43ms/step - loss: 2.8874\n",
            "Epoch 90/200\n",
            "Generated text:\n",
            " Abeni, a chilly Black pangs of Senegal. The reflecting the felt \n",
            "\n",
            "8/8 - 0s - 57ms/step - loss: 2.8546\n",
            "Epoch 91/200\n",
            "8/8 - 0s - 40ms/step - loss: 2.8197\n",
            "Epoch 92/200\n",
            "8/8 - 0s - 41ms/step - loss: 2.7851\n",
            "Epoch 93/200\n",
            "8/8 - 0s - 45ms/step - loss: 2.7518\n",
            "Epoch 94/200\n",
            "8/8 - 0s - 41ms/step - loss: 2.7192\n",
            "Epoch 95/200\n",
            "8/8 - 0s - 41ms/step - loss: 2.6846\n",
            "Epoch 96/200\n",
            "8/8 - 0s - 44ms/step - loss: 2.6560\n",
            "Epoch 97/200\n",
            "8/8 - 0s - 42ms/step - loss: 2.6241\n",
            "Epoch 98/200\n",
            "8/8 - 0s - 41ms/step - loss: 2.5881\n",
            "Epoch 99/200\n",
            "8/8 - 0s - 44ms/step - loss: 2.5608\n",
            "Epoch 100/200\n",
            "Generated text:\n",
            " Abeni, a boats, their side generally languages, Wat, world-renowned (barbecues). The \n",
            "\n",
            "8/8 - 0s - 57ms/step - loss: 2.5276\n",
            "Epoch 101/200\n",
            "8/8 - 0s - 41ms/step - loss: 2.4971\n",
            "Epoch 102/200\n",
            "8/8 - 0s - 41ms/step - loss: 2.4692\n",
            "Epoch 103/200\n",
            "8/8 - 0s - 44ms/step - loss: 2.4382\n",
            "Epoch 104/200\n",
            "8/8 - 0s - 42ms/step - loss: 2.4091\n",
            "Epoch 105/200\n",
            "8/8 - 0s - 42ms/step - loss: 2.3795\n",
            "Epoch 106/200\n",
            "8/8 - 0s - 43ms/step - loss: 2.3491\n",
            "Epoch 107/200\n",
            "8/8 - 0s - 42ms/step - loss: 2.3235\n",
            "Epoch 108/200\n",
            "8/8 - 0s - 42ms/step - loss: 2.2933\n",
            "Epoch 109/200\n",
            "8/8 - 0s - 44ms/step - loss: 2.2653\n",
            "Epoch 110/200\n",
            "Generated text:\n",
            " Abeni, shadows a incredible fruity north-flowing households and simmering the heart \n",
            "\n",
            "8/8 - 0s - 58ms/step - loss: 2.2406\n",
            "Epoch 111/200\n",
            "8/8 - 0s - 41ms/step - loss: 2.2116\n",
            "Epoch 112/200\n",
            "8/8 - 0s - 42ms/step - loss: 2.1860\n",
            "Epoch 113/200\n",
            "8/8 - 0s - 46ms/step - loss: 2.1563\n",
            "Epoch 114/200\n",
            "8/8 - 0s - 42ms/step - loss: 2.1335\n",
            "Epoch 115/200\n",
            "8/8 - 0s - 42ms/step - loss: 2.1063\n",
            "Epoch 116/200\n",
            "8/8 - 0s - 45ms/step - loss: 2.0830\n",
            "Epoch 117/200\n",
            "8/8 - 0s - 42ms/step - loss: 2.0576\n",
            "Epoch 118/200\n",
            "8/8 - 0s - 42ms/step - loss: 2.0347\n",
            "Epoch 119/200\n",
            "8/8 - 0s - 44ms/step - loss: 2.0088\n",
            "Epoch 120/200\n",
            "Generated text:\n",
            " Abeni, a glass of aesthetically miniature Drakensberg sources, the Sahara and \n",
            "\n",
            "8/8 - 0s - 58ms/step - loss: 1.9823\n",
            "Epoch 121/200\n",
            "8/8 - 0s - 41ms/step - loss: 1.9551\n",
            "Epoch 122/200\n",
            "8/8 - 0s - 42ms/step - loss: 1.9308\n",
            "Epoch 123/200\n",
            "8/8 - 0s - 47ms/step - loss: 1.9056\n",
            "Epoch 124/200\n",
            "8/8 - 0s - 43ms/step - loss: 1.8808\n",
            "Epoch 125/200\n",
            "8/8 - 0s - 42ms/step - loss: 1.8588\n",
            "Epoch 126/200\n",
            "8/8 - 0s - 46ms/step - loss: 1.8340\n",
            "Epoch 127/200\n",
            "8/8 - 0s - 43ms/step - loss: 1.8191\n",
            "Epoch 128/200\n",
            "8/8 - 0s - 43ms/step - loss: 1.7919\n",
            "Epoch 129/200\n",
            "8/8 - 0s - 45ms/step - loss: 1.7673\n",
            "Epoch 130/200\n",
            "Generated text:\n",
            " Abeni, a large, keep Medina, filled the East barbershop was more \n",
            "\n",
            "8/8 - 1s - 67ms/step - loss: 1.7439\n",
            "Epoch 131/200\n",
            "8/8 - 0s - 43ms/step - loss: 1.7262\n",
            "Epoch 132/200\n",
            "8/8 - 0s - 43ms/step - loss: 1.6957\n",
            "Epoch 133/200\n",
            "8/8 - 0s - 48ms/step - loss: 1.6763\n",
            "Epoch 134/200\n",
            "8/8 - 0s - 43ms/step - loss: 1.6553\n",
            "Epoch 135/200\n",
            "8/8 - 0s - 43ms/step - loss: 1.6282\n",
            "Epoch 136/200\n",
            "8/8 - 0s - 47ms/step - loss: 1.6114\n",
            "Epoch 137/200\n",
            "8/8 - 0s - 43ms/step - loss: 1.5883\n",
            "Epoch 138/200\n",
            "8/8 - 0s - 45ms/step - loss: 1.5714\n",
            "Epoch 139/200\n",
            "8/8 - 0s - 45ms/step - loss: 1.5522\n",
            "Epoch 140/200\n",
            "Generated text:\n",
            " Abeni, a flat-topped equator, temperatures and cassava hall with the Djiboutian \n",
            "\n",
            "8/8 - 0s - 59ms/step - loss: 1.5292\n",
            "Epoch 141/200\n",
            "8/8 - 0s - 43ms/step - loss: 1.5058\n",
            "Epoch 142/200\n",
            "8/8 - 0s - 43ms/step - loss: 1.4878\n",
            "Epoch 143/200\n",
            "8/8 - 0s - 48ms/step - loss: 1.4702\n",
            "Epoch 144/200\n",
            "8/8 - 0s - 44ms/step - loss: 1.4495\n",
            "Epoch 145/200\n",
            "8/8 - 0s - 44ms/step - loss: 1.4308\n",
            "Epoch 146/200\n",
            "8/8 - 0s - 46ms/step - loss: 1.4077\n",
            "Epoch 147/200\n",
            "8/8 - 0s - 44ms/step - loss: 1.3910\n",
            "Epoch 148/200\n",
            "8/8 - 0s - 45ms/step - loss: 1.3709\n",
            "Epoch 149/200\n",
            "8/8 - 0s - 46ms/step - loss: 1.3509\n",
            "Epoch 150/200\n",
            "Generated text:\n",
            " Abeni, a Abidjan skyline tributaries: the world's most form. They artificial \n",
            "\n",
            "8/8 - 0s - 60ms/step - loss: 1.3330\n",
            "Epoch 151/200\n",
            "8/8 - 0s - 43ms/step - loss: 1.3124\n",
            "Epoch 152/200\n",
            "8/8 - 0s - 44ms/step - loss: 1.2917\n",
            "Epoch 153/200\n",
            "8/8 - 0s - 48ms/step - loss: 1.2745\n",
            "Epoch 154/200\n",
            "8/8 - 0s - 44ms/step - loss: 1.2524\n",
            "Epoch 155/200\n",
            "8/8 - 0s - 44ms/step - loss: 1.2384\n",
            "Epoch 156/200\n",
            "8/8 - 0s - 47ms/step - loss: 1.2176\n",
            "Epoch 157/200\n",
            "8/8 - 0s - 45ms/step - loss: 1.2030\n",
            "Epoch 158/200\n",
            "8/8 - 0s - 46ms/step - loss: 1.1859\n",
            "Epoch 159/200\n",
            "8/8 - 0s - 45ms/step - loss: 1.1680\n",
            "Epoch 160/200\n",
            "Generated text:\n",
            " Abeni, a dominating the ingenuity of the savory elements dish that \n",
            "\n",
            "8/8 - 1s - 64ms/step - loss: 1.1495\n",
            "Epoch 161/200\n",
            "8/8 - 0s - 43ms/step - loss: 1.1345\n",
            "Epoch 162/200\n",
            "8/8 - 0s - 44ms/step - loss: 1.1180\n",
            "Epoch 163/200\n",
            "8/8 - 0s - 47ms/step - loss: 1.1014\n",
            "Epoch 164/200\n",
            "8/8 - 0s - 44ms/step - loss: 1.0863\n",
            "Epoch 165/200\n",
            "8/8 - 0s - 45ms/step - loss: 1.0673\n",
            "Epoch 166/200\n",
            "8/8 - 0s - 46ms/step - loss: 1.0521\n",
            "Epoch 167/200\n",
            "8/8 - 0s - 44ms/step - loss: 1.0360\n",
            "Epoch 168/200\n",
            "8/8 - 0s - 45ms/step - loss: 1.0212\n",
            "Epoch 169/200\n",
            "8/8 - 0s - 45ms/step - loss: 1.0038\n",
            "Epoch 170/200\n",
            "Generated text:\n",
            " Abeni, a chilly explore the depict southern Africa, a typically a \n",
            "\n",
            "8/8 - 0s - 59ms/step - loss: 0.9878\n",
            "Epoch 171/200\n",
            "8/8 - 0s - 43ms/step - loss: 0.9707\n",
            "Epoch 172/200\n",
            "8/8 - 0s - 43ms/step - loss: 0.9581\n",
            "Epoch 173/200\n",
            "8/8 - 0s - 48ms/step - loss: 0.9403\n",
            "Epoch 174/200\n",
            "8/8 - 0s - 44ms/step - loss: 0.9259\n",
            "Epoch 175/200\n",
            "8/8 - 0s - 43ms/step - loss: 0.9110\n",
            "Epoch 176/200\n",
            "8/8 - 0s - 46ms/step - loss: 0.8977\n",
            "Epoch 177/200\n",
            "8/8 - 0s - 43ms/step - loss: 0.8835\n",
            "Epoch 178/200\n",
            "8/8 - 0s - 44ms/step - loss: 0.8680\n",
            "Epoch 179/200\n",
            "8/8 - 0s - 44ms/step - loss: 0.8540\n",
            "Epoch 180/200\n",
            "Generated text:\n",
            " Abeni, a boy books. The clear hue. resilience, October. chai supplemented \n",
            "\n",
            "8/8 - 0s - 59ms/step - loss: 0.8420\n",
            "Epoch 181/200\n",
            "8/8 - 0s - 42ms/step - loss: 0.8278\n",
            "Epoch 182/200\n",
            "8/8 - 0s - 42ms/step - loss: 0.8140\n",
            "Epoch 183/200\n",
            "8/8 - 0s - 47ms/step - loss: 0.8022\n",
            "Epoch 184/200\n",
            "8/8 - 0s - 42ms/step - loss: 0.7872\n",
            "Epoch 185/200\n",
            "8/8 - 0s - 42ms/step - loss: 0.7816\n",
            "Epoch 186/200\n",
            "8/8 - 0s - 46ms/step - loss: 0.7656\n",
            "Epoch 187/200\n",
            "8/8 - 0s - 43ms/step - loss: 0.7504\n",
            "Epoch 188/200\n",
            "8/8 - 0s - 43ms/step - loss: 0.7369\n",
            "Epoch 189/200\n",
            "8/8 - 0s - 44ms/step - loss: 0.7254\n",
            "Epoch 190/200\n",
            "Generated text:\n",
            " Abeni, a girl with a semi-arid office workers - a remarkable \n",
            "\n",
            "8/8 - 1s - 65ms/step - loss: 0.7134\n",
            "Epoch 191/200\n",
            "8/8 - 0s - 43ms/step - loss: 0.7007\n",
            "Epoch 192/200\n",
            "8/8 - 0s - 42ms/step - loss: 0.6910\n",
            "Epoch 193/200\n",
            "8/8 - 0s - 47ms/step - loss: 0.6770\n",
            "Epoch 194/200\n",
            "8/8 - 0s - 42ms/step - loss: 0.6637\n",
            "Epoch 195/200\n",
            "8/8 - 0s - 42ms/step - loss: 0.6524\n",
            "Epoch 196/200\n",
            "8/8 - 0s - 45ms/step - loss: 0.6422\n",
            "Epoch 197/200\n",
            "8/8 - 0s - 42ms/step - loss: 0.6303\n",
            "Epoch 198/200\n",
            "8/8 - 0s - 42ms/step - loss: 0.6208\n",
            "Epoch 199/200\n",
            "8/8 - 0s - 44ms/step - loss: 0.6092\n",
            "Epoch 200/200\n",
            "Generated text:\n",
            " Abeni, a hard chilly extremely arid Malay annually. greens, and parties \n",
            "\n",
            "8/8 - 0s - 58ms/step - loss: 0.5983\n"
          ]
        }
      ],
      "source": [
        "num_epochs = 200  # @param {type: \"number\"}\n",
        "# verbose=2: Instructs the model.fit method to print one line per\n",
        "# epoch so you see how the loss is decreasing and generated texts improving.\n",
        "history = model.fit(\n",
        "    x=batches, verbose=2, epochs=num_epochs, callbacks=[text_gen_callback]\n",
        ")"
      ]
    },
    {
      "cell_type": "markdown",
      "metadata": {
        "id": "zf1BR0cGoy0V"
      },
      "source": [
        "While the model is training, you can observe how the generated text changes. At the beginning of the training, the generation will likely be a random collection of words. By the end of the training, however, the generation should start to become more coherent.\n",
        "\n",
        "Apart from observing how the generated text changes, you can also check how the **loss** changes as training progresses. If the model is training properly, the loss should go down as training continues. You may find that the loss temporarily goes up again from one epoch to another. This is nothing to worry about, but the general trend should be that the loss descreases.\n",
        "\n",
        "Once the training process has finished (this can take some time), you can prompt the model as you did in earlier labs.\n",
        "\n",
        "\n"
      ]
    },
    {
      "cell_type": "markdown",
      "metadata": {
        "id": "DTbezoZr5VKc"
      },
      "source": [
        "#### Evaluate your small language model\n",
        "\n",
        "After training a model, researchers have to perform many evaluations to determine whether it is performing well in many scenarios.\n",
        "\n",
        "As a final activity, you will also evaluate your model. The remainder of this lab guides you through this evaluation process. You will ask the following key questions to evaluate your model's quality:\n",
        "\n",
        "*   A. How good is your model at predicting the next token for a given prompt based on patterns identified in the training dataset?\n",
        "*   B. Is the generated text coherent, and does it make sense given the context?\n",
        "*   C. Is the likely next token what you expect to see when the context is changed slightly?\n",
        "\n",
        "When evaluating your model, you may find it useful to take some notes. To do this, you can either add cells to this Colab notebook or take notes on [Google Docs](https://docs.google.com/), [Notebook LM](https://notebooklm.google/), a piece of paper, or any other note-taking tool of your choice."
      ]
    },
    {
      "cell_type": "markdown",
      "metadata": {
        "id": "ukARAmZpEUOJ"
      },
      "source": [
        "### How good is your model at predicting the next token for a given prompt based on patterns identified in the training dataset?\n",
        "\n",
        "The following steps provide you with some guidance on how to answer this question.\n",
        "\n",
        "* Prompt the model using a token or sequence of tokens from the training dataset. For example, you can start with `\"Abeni, a bright-eyed\"`.\n",
        "* Visualize the probability distribution of the next token for a given prompt.\n",
        "* Increase `num_tokens_to_generate` to generate longer texts.\n",
        "* Inspect the generated text. See how well the model has learned to generate text that reflects the patterns learned during training."
      ]
    },
    {
      "cell_type": "code",
      "execution_count": 29,
      "metadata": {
        "id": "5E06Mp-wFC8q",
        "outputId": "d04b0c13-399d-4fd5-ddb6-8c7e6228fedc",
        "colab": {
          "base_uri": "https://localhost:8080/",
          "height": 616
        }
      },
      "outputs": [
        {
          "output_type": "stream",
          "name": "stdout",
          "text": [
            "Generated text: Cape town is a dormant volcano in Tanzania, dominates the East African landscape and\n",
            "\n",
            "\n"
          ]
        },
        {
          "output_type": "display_data",
          "data": {
            "text/html": [
              "<html>\n",
              "<head><meta charset=\"utf-8\" /></head>\n",
              "<body>\n",
              "    <div>            <script src=\"https://cdnjs.cloudflare.com/ajax/libs/mathjax/2.7.5/MathJax.js?config=TeX-AMS-MML_SVG\"></script><script type=\"text/javascript\">if (window.MathJax && window.MathJax.Hub && window.MathJax.Hub.Config) {window.MathJax.Hub.Config({SVG: {font: \"STIX-Web\"}});}</script>                <script type=\"text/javascript\">window.PlotlyConfig = {MathJaxConfig: 'local'};</script>\n",
              "        <script charset=\"utf-8\" src=\"https://cdn.plot.ly/plotly-2.35.2.min.js\"></script>                <div id=\"219a1d1a-c71c-4ee7-b99b-6c6ff0b5a276\" class=\"plotly-graph-div\" style=\"height:525px; width:100%;\"></div>            <script type=\"text/javascript\">                                    window.PLOTLYENV=window.PLOTLYENV || {};                                    if (document.getElementById(\"219a1d1a-c71c-4ee7-b99b-6c6ff0b5a276\")) {                    Plotly.newPlot(                        \"219a1d1a-c71c-4ee7-b99b-6c6ff0b5a276\",                        [{\"alignmentgroup\":\"True\",\"hovertemplate\":\"x=%{x}\\u003cbr\\u003ey=%{y}\\u003cextra\\u003e\\u003c\\u002fextra\\u003e\",\"legendgroup\":\"\",\"marker\":{\"color\":\"#636efa\",\"pattern\":{\"shape\":\"\"}},\"name\":\"\",\"offsetgroup\":\"\",\"orientation\":\"v\",\"showlegend\":false,\"textposition\":\"auto\",\"x\":[\"'dormant'\",\"'grassy'\",\"'sensory'\",\"'powerful'\",\"'flat-topped'\",\"'vast,'\",\"'valley'\",\"'fruity'\",\"'windows'\",\"'premier'\",\"'milky,'\",\"'semi-arid'\",\"'slower'\",\"'classic'\",\"'varied'\",\"\\\"'king\\\"\",\"'member'\",\"'sun,'\",\"'profound'\",\"'table'\",\"'Middle'\",\"'chorus'\",\"'crowd'\",\"'obvious'\",\"'creature'\",\"'bright-eyed'\",\"'beacon'\",\"'test'\",\"'treasure'\",\"'reintroduced'\"],\"xaxis\":\"x\",\"y\":[0.015907835,0.013207461,0.010337896,0.0098489085,0.009269397,0.008522927,0.0072022146,0.0065788566,0.004942323,0.004840233,0.004760593,0.00471524,0.0042379866,0.004119938,0.0038099913,0.00321147,0.0031361314,0.002994076,0.0029307413,0.0029137162,0.0028264213,0.0026253248,0.002579094,0.002560901,0.0025557224,0.0024804466,0.002393627,0.0023045745,0.0022500793,0.002211904],\"yaxis\":\"y\",\"type\":\"bar\"}],                        {\"template\":{\"data\":{\"histogram2dcontour\":[{\"type\":\"histogram2dcontour\",\"colorbar\":{\"outlinewidth\":0,\"ticks\":\"\"},\"colorscale\":[[0.0,\"#0d0887\"],[0.1111111111111111,\"#46039f\"],[0.2222222222222222,\"#7201a8\"],[0.3333333333333333,\"#9c179e\"],[0.4444444444444444,\"#bd3786\"],[0.5555555555555556,\"#d8576b\"],[0.6666666666666666,\"#ed7953\"],[0.7777777777777778,\"#fb9f3a\"],[0.8888888888888888,\"#fdca26\"],[1.0,\"#f0f921\"]]}],\"choropleth\":[{\"type\":\"choropleth\",\"colorbar\":{\"outlinewidth\":0,\"ticks\":\"\"}}],\"histogram2d\":[{\"type\":\"histogram2d\",\"colorbar\":{\"outlinewidth\":0,\"ticks\":\"\"},\"colorscale\":[[0.0,\"#0d0887\"],[0.1111111111111111,\"#46039f\"],[0.2222222222222222,\"#7201a8\"],[0.3333333333333333,\"#9c179e\"],[0.4444444444444444,\"#bd3786\"],[0.5555555555555556,\"#d8576b\"],[0.6666666666666666,\"#ed7953\"],[0.7777777777777778,\"#fb9f3a\"],[0.8888888888888888,\"#fdca26\"],[1.0,\"#f0f921\"]]}],\"heatmap\":[{\"type\":\"heatmap\",\"colorbar\":{\"outlinewidth\":0,\"ticks\":\"\"},\"colorscale\":[[0.0,\"#0d0887\"],[0.1111111111111111,\"#46039f\"],[0.2222222222222222,\"#7201a8\"],[0.3333333333333333,\"#9c179e\"],[0.4444444444444444,\"#bd3786\"],[0.5555555555555556,\"#d8576b\"],[0.6666666666666666,\"#ed7953\"],[0.7777777777777778,\"#fb9f3a\"],[0.8888888888888888,\"#fdca26\"],[1.0,\"#f0f921\"]]}],\"heatmapgl\":[{\"type\":\"heatmapgl\",\"colorbar\":{\"outlinewidth\":0,\"ticks\":\"\"},\"colorscale\":[[0.0,\"#0d0887\"],[0.1111111111111111,\"#46039f\"],[0.2222222222222222,\"#7201a8\"],[0.3333333333333333,\"#9c179e\"],[0.4444444444444444,\"#bd3786\"],[0.5555555555555556,\"#d8576b\"],[0.6666666666666666,\"#ed7953\"],[0.7777777777777778,\"#fb9f3a\"],[0.8888888888888888,\"#fdca26\"],[1.0,\"#f0f921\"]]}],\"contourcarpet\":[{\"type\":\"contourcarpet\",\"colorbar\":{\"outlinewidth\":0,\"ticks\":\"\"}}],\"contour\":[{\"type\":\"contour\",\"colorbar\":{\"outlinewidth\":0,\"ticks\":\"\"},\"colorscale\":[[0.0,\"#0d0887\"],[0.1111111111111111,\"#46039f\"],[0.2222222222222222,\"#7201a8\"],[0.3333333333333333,\"#9c179e\"],[0.4444444444444444,\"#bd3786\"],[0.5555555555555556,\"#d8576b\"],[0.6666666666666666,\"#ed7953\"],[0.7777777777777778,\"#fb9f3a\"],[0.8888888888888888,\"#fdca26\"],[1.0,\"#f0f921\"]]}],\"surface\":[{\"type\":\"surface\",\"colorbar\":{\"outlinewidth\":0,\"ticks\":\"\"},\"colorscale\":[[0.0,\"#0d0887\"],[0.1111111111111111,\"#46039f\"],[0.2222222222222222,\"#7201a8\"],[0.3333333333333333,\"#9c179e\"],[0.4444444444444444,\"#bd3786\"],[0.5555555555555556,\"#d8576b\"],[0.6666666666666666,\"#ed7953\"],[0.7777777777777778,\"#fb9f3a\"],[0.8888888888888888,\"#fdca26\"],[1.0,\"#f0f921\"]]}],\"mesh3d\":[{\"type\":\"mesh3d\",\"colorbar\":{\"outlinewidth\":0,\"ticks\":\"\"}}],\"scatter\":[{\"fillpattern\":{\"fillmode\":\"overlay\",\"size\":10,\"solidity\":0.2},\"type\":\"scatter\"}],\"parcoords\":[{\"type\":\"parcoords\",\"line\":{\"colorbar\":{\"outlinewidth\":0,\"ticks\":\"\"}}}],\"scatterpolargl\":[{\"type\":\"scatterpolargl\",\"marker\":{\"colorbar\":{\"outlinewidth\":0,\"ticks\":\"\"}}}],\"bar\":[{\"error_x\":{\"color\":\"#2a3f5f\"},\"error_y\":{\"color\":\"#2a3f5f\"},\"marker\":{\"line\":{\"color\":\"#E5ECF6\",\"width\":0.5},\"pattern\":{\"fillmode\":\"overlay\",\"size\":10,\"solidity\":0.2}},\"type\":\"bar\"}],\"scattergeo\":[{\"type\":\"scattergeo\",\"marker\":{\"colorbar\":{\"outlinewidth\":0,\"ticks\":\"\"}}}],\"scatterpolar\":[{\"type\":\"scatterpolar\",\"marker\":{\"colorbar\":{\"outlinewidth\":0,\"ticks\":\"\"}}}],\"histogram\":[{\"marker\":{\"pattern\":{\"fillmode\":\"overlay\",\"size\":10,\"solidity\":0.2}},\"type\":\"histogram\"}],\"scattergl\":[{\"type\":\"scattergl\",\"marker\":{\"colorbar\":{\"outlinewidth\":0,\"ticks\":\"\"}}}],\"scatter3d\":[{\"type\":\"scatter3d\",\"line\":{\"colorbar\":{\"outlinewidth\":0,\"ticks\":\"\"}},\"marker\":{\"colorbar\":{\"outlinewidth\":0,\"ticks\":\"\"}}}],\"scattermapbox\":[{\"type\":\"scattermapbox\",\"marker\":{\"colorbar\":{\"outlinewidth\":0,\"ticks\":\"\"}}}],\"scatterternary\":[{\"type\":\"scatterternary\",\"marker\":{\"colorbar\":{\"outlinewidth\":0,\"ticks\":\"\"}}}],\"scattercarpet\":[{\"type\":\"scattercarpet\",\"marker\":{\"colorbar\":{\"outlinewidth\":0,\"ticks\":\"\"}}}],\"carpet\":[{\"aaxis\":{\"endlinecolor\":\"#2a3f5f\",\"gridcolor\":\"white\",\"linecolor\":\"white\",\"minorgridcolor\":\"white\",\"startlinecolor\":\"#2a3f5f\"},\"baxis\":{\"endlinecolor\":\"#2a3f5f\",\"gridcolor\":\"white\",\"linecolor\":\"white\",\"minorgridcolor\":\"white\",\"startlinecolor\":\"#2a3f5f\"},\"type\":\"carpet\"}],\"table\":[{\"cells\":{\"fill\":{\"color\":\"#EBF0F8\"},\"line\":{\"color\":\"white\"}},\"header\":{\"fill\":{\"color\":\"#C8D4E3\"},\"line\":{\"color\":\"white\"}},\"type\":\"table\"}],\"barpolar\":[{\"marker\":{\"line\":{\"color\":\"#E5ECF6\",\"width\":0.5},\"pattern\":{\"fillmode\":\"overlay\",\"size\":10,\"solidity\":0.2}},\"type\":\"barpolar\"}],\"pie\":[{\"automargin\":true,\"type\":\"pie\"}]},\"layout\":{\"autotypenumbers\":\"strict\",\"colorway\":[\"#636efa\",\"#EF553B\",\"#00cc96\",\"#ab63fa\",\"#FFA15A\",\"#19d3f3\",\"#FF6692\",\"#B6E880\",\"#FF97FF\",\"#FECB52\"],\"font\":{\"color\":\"#2a3f5f\"},\"hovermode\":\"closest\",\"hoverlabel\":{\"align\":\"left\"},\"paper_bgcolor\":\"white\",\"plot_bgcolor\":\"#E5ECF6\",\"polar\":{\"bgcolor\":\"#E5ECF6\",\"angularaxis\":{\"gridcolor\":\"white\",\"linecolor\":\"white\",\"ticks\":\"\"},\"radialaxis\":{\"gridcolor\":\"white\",\"linecolor\":\"white\",\"ticks\":\"\"}},\"ternary\":{\"bgcolor\":\"#E5ECF6\",\"aaxis\":{\"gridcolor\":\"white\",\"linecolor\":\"white\",\"ticks\":\"\"},\"baxis\":{\"gridcolor\":\"white\",\"linecolor\":\"white\",\"ticks\":\"\"},\"caxis\":{\"gridcolor\":\"white\",\"linecolor\":\"white\",\"ticks\":\"\"}},\"coloraxis\":{\"colorbar\":{\"outlinewidth\":0,\"ticks\":\"\"}},\"colorscale\":{\"sequential\":[[0.0,\"#0d0887\"],[0.1111111111111111,\"#46039f\"],[0.2222222222222222,\"#7201a8\"],[0.3333333333333333,\"#9c179e\"],[0.4444444444444444,\"#bd3786\"],[0.5555555555555556,\"#d8576b\"],[0.6666666666666666,\"#ed7953\"],[0.7777777777777778,\"#fb9f3a\"],[0.8888888888888888,\"#fdca26\"],[1.0,\"#f0f921\"]],\"sequentialminus\":[[0.0,\"#0d0887\"],[0.1111111111111111,\"#46039f\"],[0.2222222222222222,\"#7201a8\"],[0.3333333333333333,\"#9c179e\"],[0.4444444444444444,\"#bd3786\"],[0.5555555555555556,\"#d8576b\"],[0.6666666666666666,\"#ed7953\"],[0.7777777777777778,\"#fb9f3a\"],[0.8888888888888888,\"#fdca26\"],[1.0,\"#f0f921\"]],\"diverging\":[[0,\"#8e0152\"],[0.1,\"#c51b7d\"],[0.2,\"#de77ae\"],[0.3,\"#f1b6da\"],[0.4,\"#fde0ef\"],[0.5,\"#f7f7f7\"],[0.6,\"#e6f5d0\"],[0.7,\"#b8e186\"],[0.8,\"#7fbc41\"],[0.9,\"#4d9221\"],[1,\"#276419\"]]},\"xaxis\":{\"gridcolor\":\"white\",\"linecolor\":\"white\",\"ticks\":\"\",\"title\":{\"standoff\":15},\"zerolinecolor\":\"white\",\"automargin\":true,\"zerolinewidth\":2},\"yaxis\":{\"gridcolor\":\"white\",\"linecolor\":\"white\",\"ticks\":\"\",\"title\":{\"standoff\":15},\"zerolinecolor\":\"white\",\"automargin\":true,\"zerolinewidth\":2},\"scene\":{\"xaxis\":{\"backgroundcolor\":\"#E5ECF6\",\"gridcolor\":\"white\",\"linecolor\":\"white\",\"showbackground\":true,\"ticks\":\"\",\"zerolinecolor\":\"white\",\"gridwidth\":2},\"yaxis\":{\"backgroundcolor\":\"#E5ECF6\",\"gridcolor\":\"white\",\"linecolor\":\"white\",\"showbackground\":true,\"ticks\":\"\",\"zerolinecolor\":\"white\",\"gridwidth\":2},\"zaxis\":{\"backgroundcolor\":\"#E5ECF6\",\"gridcolor\":\"white\",\"linecolor\":\"white\",\"showbackground\":true,\"ticks\":\"\",\"zerolinecolor\":\"white\",\"gridwidth\":2}},\"shapedefaults\":{\"line\":{\"color\":\"#2a3f5f\"}},\"annotationdefaults\":{\"arrowcolor\":\"#2a3f5f\",\"arrowhead\":0,\"arrowwidth\":1},\"geo\":{\"bgcolor\":\"white\",\"landcolor\":\"#E5ECF6\",\"subunitcolor\":\"white\",\"showland\":true,\"showlakes\":true,\"lakecolor\":\"white\"},\"title\":{\"x\":0.05},\"mapbox\":{\"style\":\"light\"}}},\"xaxis\":{\"anchor\":\"y\",\"domain\":[0.0,1.0],\"title\":{\"text\":\"Tokens\"}},\"yaxis\":{\"anchor\":\"x\",\"domain\":[0.0,1.0],\"title\":{\"text\":\"Probability\"}},\"legend\":{\"tracegroupgap\":0},\"margin\":{\"t\":60},\"barmode\":\"relative\",\"title\":{\"text\":\"Probability distribution of next tokens given the prompt=\\\"Cape town is a\\\"\"}},                        {\"responsive\": true}                    ).then(function(){\n",
              "                            \n",
              "var gd = document.getElementById('219a1d1a-c71c-4ee7-b99b-6c6ff0b5a276');\n",
              "var x = new MutationObserver(function (mutations, observer) {{\n",
              "        var display = window.getComputedStyle(gd).display;\n",
              "        if (!display || display === 'none') {{\n",
              "            console.log([gd, 'removed!']);\n",
              "            Plotly.purge(gd);\n",
              "            observer.disconnect();\n",
              "        }}\n",
              "}});\n",
              "\n",
              "// Listen for the removal of the full notebook cells\n",
              "var notebookContainer = gd.closest('#notebook-container');\n",
              "if (notebookContainer) {{\n",
              "    x.observe(notebookContainer, {childList: true});\n",
              "}}\n",
              "\n",
              "// Listen for the clearing of the current output cell\n",
              "var outputEl = gd.closest('.output');\n",
              "if (outputEl) {{\n",
              "    x.observe(outputEl, {childList: true});\n",
              "}}\n",
              "\n",
              "                        })                };                            </script>        </div>\n",
              "</body>\n",
              "</html>"
            ]
          },
          "metadata": {}
        }
      ],
      "source": [
        "prompt = \"Cape town is a\" #@param {type: \"string\"}\n",
        "num_tokens_to_generate = 10 #@param {type: \"number\"}\n",
        "generated_text, probs = generation.generate_text(\n",
        "    prompt,\n",
        "    num_tokens_to_generate,\n",
        "    model=model,\n",
        "    tokenizer=tokenizer,\n",
        "    pad_token_id=tokenizer.pad_token_id,\n",
        "    sampling_mode=\"greedy\" # To generate the highest probability generation.\n",
        ")\n",
        "\n",
        "print(\"Generated text:\", generated_text)\n",
        "print(\"\\n\")\n",
        "\n",
        "visualizations.plot_next_token(probs[0], prompt=prompt, tokenizer=tokenizer)"
      ]
    },
    {
      "cell_type": "markdown",
      "metadata": {
        "id": "RXz3Wu-10jlX"
      },
      "source": [
        "### Is the generated text coherent, and does it make sense given the context?\n",
        "* Prompt the model with a token  or a phrase of your choosing.\n",
        "* Increase `num_tokens_to_generate` to generate longer texts.\n",
        "* Visualize the probability distribution of the next token for a given prompt.\n",
        "* Inspect the quality of generated texts.\n",
        "\n",
        "Note that, above, the generation process always chooses the most probable next token from the set of candidate tokens. In the next cell, the generation process samples a next token according to the probability distribution predicted by the model. This is done by setting the `sampling_mode` parameter to `random`.\n",
        "\n",
        "------\n",
        "> **ℹ️ Info: Unseen tokens**\n",
        ">\n",
        ">When you are trying different prompts, you may also notice that sometimes tokens get replaced by the special string `<UNK>`. This happens when you prompt the model with tokens that did not appear in the training dataset, so called **unseen tokens**. For these tokens, the `token_to_index` dictionary of the tokenizer does not have an entry and therefore they cannot be mapped to a token index.\n",
        ">\n",
        "> One method of dealing with such tokens is to add a special `<UNK>` token along with its index to the vocabulary of the tokenizer. Then, during **inference**, whenever there is an unseen token, it maps the token to the index of this special `<UNK>` token.\n",
        ">\n",
        "> This method is not ideal because all information in the token is lost. In later courses, you will learn more sophisticated methods of dealing with unseen tokens that do not rely on such a catch-all token. For now, you will likely observe that the model is not very good at predicting the next word if there are several unseen words in the prompt.\n",
        "------"
      ]
    },
    {
      "cell_type": "code",
      "execution_count": 30,
      "metadata": {
        "id": "J1riRfT3lbA8",
        "outputId": "7d6a74be-ba46-4fd5-bfe8-81453c53b051",
        "colab": {
          "base_uri": "https://localhost:8080/",
          "height": 616
        }
      },
      "outputs": [
        {
          "output_type": "stream",
          "name": "stdout",
          "text": [
            "Generated text: Jide was hungry so she went looking for Zimbabwe and soon being traditional riads bean batter is characterized\n",
            "\n",
            "\n"
          ]
        },
        {
          "output_type": "display_data",
          "data": {
            "text/html": [
              "<html>\n",
              "<head><meta charset=\"utf-8\" /></head>\n",
              "<body>\n",
              "    <div>            <script src=\"https://cdnjs.cloudflare.com/ajax/libs/mathjax/2.7.5/MathJax.js?config=TeX-AMS-MML_SVG\"></script><script type=\"text/javascript\">if (window.MathJax && window.MathJax.Hub && window.MathJax.Hub.Config) {window.MathJax.Hub.Config({SVG: {font: \"STIX-Web\"}});}</script>                <script type=\"text/javascript\">window.PlotlyConfig = {MathJaxConfig: 'local'};</script>\n",
              "        <script charset=\"utf-8\" src=\"https://cdn.plot.ly/plotly-2.35.2.min.js\"></script>                <div id=\"47a8a7ba-595e-425a-b14b-ea783da178fd\" class=\"plotly-graph-div\" style=\"height:525px; width:100%;\"></div>            <script type=\"text/javascript\">                                    window.PLOTLYENV=window.PLOTLYENV || {};                                    if (document.getElementById(\"47a8a7ba-595e-425a-b14b-ea783da178fd\")) {                    Plotly.newPlot(                        \"47a8a7ba-595e-425a-b14b-ea783da178fd\",                        [{\"alignmentgroup\":\"True\",\"hovertemplate\":\"x=%{x}\\u003cbr\\u003ey=%{y}\\u003cextra\\u003e\\u003c\\u002fextra\\u003e\",\"legendgroup\":\"\",\"marker\":{\"color\":\"#636efa\",\"pattern\":{\"shape\":\"\"}},\"name\":\"\",\"offsetgroup\":\"\",\"orientation\":\"v\",\"showlegend\":false,\"textposition\":\"auto\",\"x\":[\"'a'\",\"'Maafe,'\",\"'Banku'\",\"'sambusa,'\",\"'dodo,'\",\"'sugarcane'\",\"'Fura'\",\"'Umqombothi,'\",\"'Tella,'\",\"'Doro'\",\"'crispy'\",\"'an'\",\"'warm'\",\"'extra'\",\"'more'\",\"'many'\",\"'comfort'\",\"'several'\",\"'tilapia,'\",\"'being'\",\"'its'\",\"'building'\",\"'her'\",\"'special'\",\"'went'\",\"'grilled'\",\"'maintaining'\",\"'the'\",\"'one'\",\"'breakfast'\"],\"xaxis\":\"x\",\"y\":[0.7352888,0.026333876,0.020540055,0.017769001,0.017175725,0.015746891,0.013072829,0.011213542,0.010283738,0.00941944,0.008797993,0.006340429,0.0062844646,0.0017472869,0.0016347503,0.0013695502,0.001344641,0.0013415683,0.0012023239,0.001150714,0.0011127774,0.0010493184,0.0009677054,0.0008527884,0.0008166353,0.00073603133,0.00071160507,0.00071129506,0.00069312734,0.0006807982],\"yaxis\":\"y\",\"type\":\"bar\"}],                        {\"template\":{\"data\":{\"histogram2dcontour\":[{\"type\":\"histogram2dcontour\",\"colorbar\":{\"outlinewidth\":0,\"ticks\":\"\"},\"colorscale\":[[0.0,\"#0d0887\"],[0.1111111111111111,\"#46039f\"],[0.2222222222222222,\"#7201a8\"],[0.3333333333333333,\"#9c179e\"],[0.4444444444444444,\"#bd3786\"],[0.5555555555555556,\"#d8576b\"],[0.6666666666666666,\"#ed7953\"],[0.7777777777777778,\"#fb9f3a\"],[0.8888888888888888,\"#fdca26\"],[1.0,\"#f0f921\"]]}],\"choropleth\":[{\"type\":\"choropleth\",\"colorbar\":{\"outlinewidth\":0,\"ticks\":\"\"}}],\"histogram2d\":[{\"type\":\"histogram2d\",\"colorbar\":{\"outlinewidth\":0,\"ticks\":\"\"},\"colorscale\":[[0.0,\"#0d0887\"],[0.1111111111111111,\"#46039f\"],[0.2222222222222222,\"#7201a8\"],[0.3333333333333333,\"#9c179e\"],[0.4444444444444444,\"#bd3786\"],[0.5555555555555556,\"#d8576b\"],[0.6666666666666666,\"#ed7953\"],[0.7777777777777778,\"#fb9f3a\"],[0.8888888888888888,\"#fdca26\"],[1.0,\"#f0f921\"]]}],\"heatmap\":[{\"type\":\"heatmap\",\"colorbar\":{\"outlinewidth\":0,\"ticks\":\"\"},\"colorscale\":[[0.0,\"#0d0887\"],[0.1111111111111111,\"#46039f\"],[0.2222222222222222,\"#7201a8\"],[0.3333333333333333,\"#9c179e\"],[0.4444444444444444,\"#bd3786\"],[0.5555555555555556,\"#d8576b\"],[0.6666666666666666,\"#ed7953\"],[0.7777777777777778,\"#fb9f3a\"],[0.8888888888888888,\"#fdca26\"],[1.0,\"#f0f921\"]]}],\"heatmapgl\":[{\"type\":\"heatmapgl\",\"colorbar\":{\"outlinewidth\":0,\"ticks\":\"\"},\"colorscale\":[[0.0,\"#0d0887\"],[0.1111111111111111,\"#46039f\"],[0.2222222222222222,\"#7201a8\"],[0.3333333333333333,\"#9c179e\"],[0.4444444444444444,\"#bd3786\"],[0.5555555555555556,\"#d8576b\"],[0.6666666666666666,\"#ed7953\"],[0.7777777777777778,\"#fb9f3a\"],[0.8888888888888888,\"#fdca26\"],[1.0,\"#f0f921\"]]}],\"contourcarpet\":[{\"type\":\"contourcarpet\",\"colorbar\":{\"outlinewidth\":0,\"ticks\":\"\"}}],\"contour\":[{\"type\":\"contour\",\"colorbar\":{\"outlinewidth\":0,\"ticks\":\"\"},\"colorscale\":[[0.0,\"#0d0887\"],[0.1111111111111111,\"#46039f\"],[0.2222222222222222,\"#7201a8\"],[0.3333333333333333,\"#9c179e\"],[0.4444444444444444,\"#bd3786\"],[0.5555555555555556,\"#d8576b\"],[0.6666666666666666,\"#ed7953\"],[0.7777777777777778,\"#fb9f3a\"],[0.8888888888888888,\"#fdca26\"],[1.0,\"#f0f921\"]]}],\"surface\":[{\"type\":\"surface\",\"colorbar\":{\"outlinewidth\":0,\"ticks\":\"\"},\"colorscale\":[[0.0,\"#0d0887\"],[0.1111111111111111,\"#46039f\"],[0.2222222222222222,\"#7201a8\"],[0.3333333333333333,\"#9c179e\"],[0.4444444444444444,\"#bd3786\"],[0.5555555555555556,\"#d8576b\"],[0.6666666666666666,\"#ed7953\"],[0.7777777777777778,\"#fb9f3a\"],[0.8888888888888888,\"#fdca26\"],[1.0,\"#f0f921\"]]}],\"mesh3d\":[{\"type\":\"mesh3d\",\"colorbar\":{\"outlinewidth\":0,\"ticks\":\"\"}}],\"scatter\":[{\"fillpattern\":{\"fillmode\":\"overlay\",\"size\":10,\"solidity\":0.2},\"type\":\"scatter\"}],\"parcoords\":[{\"type\":\"parcoords\",\"line\":{\"colorbar\":{\"outlinewidth\":0,\"ticks\":\"\"}}}],\"scatterpolargl\":[{\"type\":\"scatterpolargl\",\"marker\":{\"colorbar\":{\"outlinewidth\":0,\"ticks\":\"\"}}}],\"bar\":[{\"error_x\":{\"color\":\"#2a3f5f\"},\"error_y\":{\"color\":\"#2a3f5f\"},\"marker\":{\"line\":{\"color\":\"#E5ECF6\",\"width\":0.5},\"pattern\":{\"fillmode\":\"overlay\",\"size\":10,\"solidity\":0.2}},\"type\":\"bar\"}],\"scattergeo\":[{\"type\":\"scattergeo\",\"marker\":{\"colorbar\":{\"outlinewidth\":0,\"ticks\":\"\"}}}],\"scatterpolar\":[{\"type\":\"scatterpolar\",\"marker\":{\"colorbar\":{\"outlinewidth\":0,\"ticks\":\"\"}}}],\"histogram\":[{\"marker\":{\"pattern\":{\"fillmode\":\"overlay\",\"size\":10,\"solidity\":0.2}},\"type\":\"histogram\"}],\"scattergl\":[{\"type\":\"scattergl\",\"marker\":{\"colorbar\":{\"outlinewidth\":0,\"ticks\":\"\"}}}],\"scatter3d\":[{\"type\":\"scatter3d\",\"line\":{\"colorbar\":{\"outlinewidth\":0,\"ticks\":\"\"}},\"marker\":{\"colorbar\":{\"outlinewidth\":0,\"ticks\":\"\"}}}],\"scattermapbox\":[{\"type\":\"scattermapbox\",\"marker\":{\"colorbar\":{\"outlinewidth\":0,\"ticks\":\"\"}}}],\"scatterternary\":[{\"type\":\"scatterternary\",\"marker\":{\"colorbar\":{\"outlinewidth\":0,\"ticks\":\"\"}}}],\"scattercarpet\":[{\"type\":\"scattercarpet\",\"marker\":{\"colorbar\":{\"outlinewidth\":0,\"ticks\":\"\"}}}],\"carpet\":[{\"aaxis\":{\"endlinecolor\":\"#2a3f5f\",\"gridcolor\":\"white\",\"linecolor\":\"white\",\"minorgridcolor\":\"white\",\"startlinecolor\":\"#2a3f5f\"},\"baxis\":{\"endlinecolor\":\"#2a3f5f\",\"gridcolor\":\"white\",\"linecolor\":\"white\",\"minorgridcolor\":\"white\",\"startlinecolor\":\"#2a3f5f\"},\"type\":\"carpet\"}],\"table\":[{\"cells\":{\"fill\":{\"color\":\"#EBF0F8\"},\"line\":{\"color\":\"white\"}},\"header\":{\"fill\":{\"color\":\"#C8D4E3\"},\"line\":{\"color\":\"white\"}},\"type\":\"table\"}],\"barpolar\":[{\"marker\":{\"line\":{\"color\":\"#E5ECF6\",\"width\":0.5},\"pattern\":{\"fillmode\":\"overlay\",\"size\":10,\"solidity\":0.2}},\"type\":\"barpolar\"}],\"pie\":[{\"automargin\":true,\"type\":\"pie\"}]},\"layout\":{\"autotypenumbers\":\"strict\",\"colorway\":[\"#636efa\",\"#EF553B\",\"#00cc96\",\"#ab63fa\",\"#FFA15A\",\"#19d3f3\",\"#FF6692\",\"#B6E880\",\"#FF97FF\",\"#FECB52\"],\"font\":{\"color\":\"#2a3f5f\"},\"hovermode\":\"closest\",\"hoverlabel\":{\"align\":\"left\"},\"paper_bgcolor\":\"white\",\"plot_bgcolor\":\"#E5ECF6\",\"polar\":{\"bgcolor\":\"#E5ECF6\",\"angularaxis\":{\"gridcolor\":\"white\",\"linecolor\":\"white\",\"ticks\":\"\"},\"radialaxis\":{\"gridcolor\":\"white\",\"linecolor\":\"white\",\"ticks\":\"\"}},\"ternary\":{\"bgcolor\":\"#E5ECF6\",\"aaxis\":{\"gridcolor\":\"white\",\"linecolor\":\"white\",\"ticks\":\"\"},\"baxis\":{\"gridcolor\":\"white\",\"linecolor\":\"white\",\"ticks\":\"\"},\"caxis\":{\"gridcolor\":\"white\",\"linecolor\":\"white\",\"ticks\":\"\"}},\"coloraxis\":{\"colorbar\":{\"outlinewidth\":0,\"ticks\":\"\"}},\"colorscale\":{\"sequential\":[[0.0,\"#0d0887\"],[0.1111111111111111,\"#46039f\"],[0.2222222222222222,\"#7201a8\"],[0.3333333333333333,\"#9c179e\"],[0.4444444444444444,\"#bd3786\"],[0.5555555555555556,\"#d8576b\"],[0.6666666666666666,\"#ed7953\"],[0.7777777777777778,\"#fb9f3a\"],[0.8888888888888888,\"#fdca26\"],[1.0,\"#f0f921\"]],\"sequentialminus\":[[0.0,\"#0d0887\"],[0.1111111111111111,\"#46039f\"],[0.2222222222222222,\"#7201a8\"],[0.3333333333333333,\"#9c179e\"],[0.4444444444444444,\"#bd3786\"],[0.5555555555555556,\"#d8576b\"],[0.6666666666666666,\"#ed7953\"],[0.7777777777777778,\"#fb9f3a\"],[0.8888888888888888,\"#fdca26\"],[1.0,\"#f0f921\"]],\"diverging\":[[0,\"#8e0152\"],[0.1,\"#c51b7d\"],[0.2,\"#de77ae\"],[0.3,\"#f1b6da\"],[0.4,\"#fde0ef\"],[0.5,\"#f7f7f7\"],[0.6,\"#e6f5d0\"],[0.7,\"#b8e186\"],[0.8,\"#7fbc41\"],[0.9,\"#4d9221\"],[1,\"#276419\"]]},\"xaxis\":{\"gridcolor\":\"white\",\"linecolor\":\"white\",\"ticks\":\"\",\"title\":{\"standoff\":15},\"zerolinecolor\":\"white\",\"automargin\":true,\"zerolinewidth\":2},\"yaxis\":{\"gridcolor\":\"white\",\"linecolor\":\"white\",\"ticks\":\"\",\"title\":{\"standoff\":15},\"zerolinecolor\":\"white\",\"automargin\":true,\"zerolinewidth\":2},\"scene\":{\"xaxis\":{\"backgroundcolor\":\"#E5ECF6\",\"gridcolor\":\"white\",\"linecolor\":\"white\",\"showbackground\":true,\"ticks\":\"\",\"zerolinecolor\":\"white\",\"gridwidth\":2},\"yaxis\":{\"backgroundcolor\":\"#E5ECF6\",\"gridcolor\":\"white\",\"linecolor\":\"white\",\"showbackground\":true,\"ticks\":\"\",\"zerolinecolor\":\"white\",\"gridwidth\":2},\"zaxis\":{\"backgroundcolor\":\"#E5ECF6\",\"gridcolor\":\"white\",\"linecolor\":\"white\",\"showbackground\":true,\"ticks\":\"\",\"zerolinecolor\":\"white\",\"gridwidth\":2}},\"shapedefaults\":{\"line\":{\"color\":\"#2a3f5f\"}},\"annotationdefaults\":{\"arrowcolor\":\"#2a3f5f\",\"arrowhead\":0,\"arrowwidth\":1},\"geo\":{\"bgcolor\":\"white\",\"landcolor\":\"#E5ECF6\",\"subunitcolor\":\"white\",\"showland\":true,\"showlakes\":true,\"lakecolor\":\"white\"},\"title\":{\"x\":0.05},\"mapbox\":{\"style\":\"light\"}}},\"xaxis\":{\"anchor\":\"y\",\"domain\":[0.0,1.0],\"title\":{\"text\":\"Tokens\"}},\"yaxis\":{\"anchor\":\"x\",\"domain\":[0.0,1.0],\"title\":{\"text\":\"Probability\"}},\"legend\":{\"tracegroupgap\":0},\"margin\":{\"t\":60},\"barmode\":\"relative\",\"title\":{\"text\":\"Probability distribution of next tokens given the prompt=\\\"Jide was hungry so she went looking for\\\"\"}},                        {\"responsive\": true}                    ).then(function(){\n",
              "                            \n",
              "var gd = document.getElementById('47a8a7ba-595e-425a-b14b-ea783da178fd');\n",
              "var x = new MutationObserver(function (mutations, observer) {{\n",
              "        var display = window.getComputedStyle(gd).display;\n",
              "        if (!display || display === 'none') {{\n",
              "            console.log([gd, 'removed!']);\n",
              "            Plotly.purge(gd);\n",
              "            observer.disconnect();\n",
              "        }}\n",
              "}});\n",
              "\n",
              "// Listen for the removal of the full notebook cells\n",
              "var notebookContainer = gd.closest('#notebook-container');\n",
              "if (notebookContainer) {{\n",
              "    x.observe(notebookContainer, {childList: true});\n",
              "}}\n",
              "\n",
              "// Listen for the clearing of the current output cell\n",
              "var outputEl = gd.closest('.output');\n",
              "if (outputEl) {{\n",
              "    x.observe(outputEl, {childList: true});\n",
              "}}\n",
              "\n",
              "                        })                };                            </script>        </div>\n",
              "</body>\n",
              "</html>"
            ]
          },
          "metadata": {}
        }
      ],
      "source": [
        "prompt = \"Jide was hungry so she went looking for\" #@param {type: \"string\"}\n",
        "num_tokens_to_generate = 10 #@param {type: \"number\"}\n",
        "generated_text, probs = generation.generate_text(\n",
        "    prompt,\n",
        "    num_tokens_to_generate,\n",
        "    model=model,\n",
        "    tokenizer=tokenizer,\n",
        "    pad_token_id=tokenizer.pad_token_id,\n",
        "    sampling_mode=\"random\",\n",
        ")\n",
        "print(\"Generated text:\", generated_text)\n",
        "print(\"\\n\")\n",
        "\n",
        "visualizations.plot_next_token(probs[0], prompt=prompt, tokenizer=tokenizer)"
      ]
    },
    {
      "cell_type": "markdown",
      "metadata": {
        "id": "VEoUkDVFd_0M"
      },
      "source": [
        "### Is the likely next token what you expect to see when the context is changed slightly?\n",
        "* Change the context of the prompt slightly.\n",
        "* Visualize the probability distribution of the next token for a given prompt.\n",
        "* Increase `num_tokens_to_generate` to generate longer texts.\n",
        "* Inspect the quality of generated texts."
      ]
    },
    {
      "cell_type": "code",
      "execution_count": 31,
      "metadata": {
        "id": "hHFdQf4Fdn9x",
        "outputId": "22faab00-19d8-4098-8bf3-54e5c9a83d39",
        "colab": {
          "base_uri": "https://localhost:8080/",
          "height": 616
        }
      },
      "outputs": [
        {
          "output_type": "stream",
          "name": "stdout",
          "text": [
            "Generated text: Jide was thirsty so she went looking for change. taste. It has become ice cake\" in a scent\n",
            "\n",
            "\n"
          ]
        },
        {
          "output_type": "display_data",
          "data": {
            "text/html": [
              "<html>\n",
              "<head><meta charset=\"utf-8\" /></head>\n",
              "<body>\n",
              "    <div>            <script src=\"https://cdnjs.cloudflare.com/ajax/libs/mathjax/2.7.5/MathJax.js?config=TeX-AMS-MML_SVG\"></script><script type=\"text/javascript\">if (window.MathJax && window.MathJax.Hub && window.MathJax.Hub.Config) {window.MathJax.Hub.Config({SVG: {font: \"STIX-Web\"}});}</script>                <script type=\"text/javascript\">window.PlotlyConfig = {MathJaxConfig: 'local'};</script>\n",
              "        <script charset=\"utf-8\" src=\"https://cdn.plot.ly/plotly-2.35.2.min.js\"></script>                <div id=\"4a8daaaa-7b82-419c-aaab-2a9bbc0819ce\" class=\"plotly-graph-div\" style=\"height:525px; width:100%;\"></div>            <script type=\"text/javascript\">                                    window.PLOTLYENV=window.PLOTLYENV || {};                                    if (document.getElementById(\"4a8daaaa-7b82-419c-aaab-2a9bbc0819ce\")) {                    Plotly.newPlot(                        \"4a8daaaa-7b82-419c-aaab-2a9bbc0819ce\",                        [{\"alignmentgroup\":\"True\",\"hovertemplate\":\"x=%{x}\\u003cbr\\u003ey=%{y}\\u003cextra\\u003e\\u003c\\u002fextra\\u003e\",\"legendgroup\":\"\",\"marker\":{\"color\":\"#636efa\",\"pattern\":{\"shape\":\"\"}},\"name\":\"\",\"offsetgroup\":\"\",\"orientation\":\"v\",\"showlegend\":false,\"textposition\":\"auto\",\"x\":[\"'a'\",\"'Fura'\",\"'Umqombothi,'\",\"'Tella,'\",\"'sugarcane'\",\"'Maafe,'\",\"'sambusa,'\",\"'dodo,'\",\"'Banku'\",\"'Doro'\",\"'warm'\",\"'crispy'\",\"'an'\",\"'went'\",\"'building'\",\"'its'\",\"'extra'\",\"'comfort'\",\"'several'\",\"'being'\",\"'used'\",\"'found'\",\"'at'\",\"'hot'\",\"'many'\",\"'comforting'\",\"'breakfast'\",\"'everyday'\",\"'more'\",\"'spiced'\"],\"xaxis\":\"x\",\"y\":[0.62198883,0.042228494,0.040081043,0.031704523,0.023261238,0.02143456,0.01718077,0.014417503,0.013437379,0.0077618402,0.006842118,0.004762409,0.004306314,0.0033499503,0.0025440627,0.0024710102,0.0024703976,0.0022639635,0.00215415,0.0019649565,0.0019174587,0.0016919367,0.0014690357,0.0013599659,0.0011615278,0.0011178649,0.0010998446,0.0010437677,0.0010089296,0.000949891],\"yaxis\":\"y\",\"type\":\"bar\"}],                        {\"template\":{\"data\":{\"histogram2dcontour\":[{\"type\":\"histogram2dcontour\",\"colorbar\":{\"outlinewidth\":0,\"ticks\":\"\"},\"colorscale\":[[0.0,\"#0d0887\"],[0.1111111111111111,\"#46039f\"],[0.2222222222222222,\"#7201a8\"],[0.3333333333333333,\"#9c179e\"],[0.4444444444444444,\"#bd3786\"],[0.5555555555555556,\"#d8576b\"],[0.6666666666666666,\"#ed7953\"],[0.7777777777777778,\"#fb9f3a\"],[0.8888888888888888,\"#fdca26\"],[1.0,\"#f0f921\"]]}],\"choropleth\":[{\"type\":\"choropleth\",\"colorbar\":{\"outlinewidth\":0,\"ticks\":\"\"}}],\"histogram2d\":[{\"type\":\"histogram2d\",\"colorbar\":{\"outlinewidth\":0,\"ticks\":\"\"},\"colorscale\":[[0.0,\"#0d0887\"],[0.1111111111111111,\"#46039f\"],[0.2222222222222222,\"#7201a8\"],[0.3333333333333333,\"#9c179e\"],[0.4444444444444444,\"#bd3786\"],[0.5555555555555556,\"#d8576b\"],[0.6666666666666666,\"#ed7953\"],[0.7777777777777778,\"#fb9f3a\"],[0.8888888888888888,\"#fdca26\"],[1.0,\"#f0f921\"]]}],\"heatmap\":[{\"type\":\"heatmap\",\"colorbar\":{\"outlinewidth\":0,\"ticks\":\"\"},\"colorscale\":[[0.0,\"#0d0887\"],[0.1111111111111111,\"#46039f\"],[0.2222222222222222,\"#7201a8\"],[0.3333333333333333,\"#9c179e\"],[0.4444444444444444,\"#bd3786\"],[0.5555555555555556,\"#d8576b\"],[0.6666666666666666,\"#ed7953\"],[0.7777777777777778,\"#fb9f3a\"],[0.8888888888888888,\"#fdca26\"],[1.0,\"#f0f921\"]]}],\"heatmapgl\":[{\"type\":\"heatmapgl\",\"colorbar\":{\"outlinewidth\":0,\"ticks\":\"\"},\"colorscale\":[[0.0,\"#0d0887\"],[0.1111111111111111,\"#46039f\"],[0.2222222222222222,\"#7201a8\"],[0.3333333333333333,\"#9c179e\"],[0.4444444444444444,\"#bd3786\"],[0.5555555555555556,\"#d8576b\"],[0.6666666666666666,\"#ed7953\"],[0.7777777777777778,\"#fb9f3a\"],[0.8888888888888888,\"#fdca26\"],[1.0,\"#f0f921\"]]}],\"contourcarpet\":[{\"type\":\"contourcarpet\",\"colorbar\":{\"outlinewidth\":0,\"ticks\":\"\"}}],\"contour\":[{\"type\":\"contour\",\"colorbar\":{\"outlinewidth\":0,\"ticks\":\"\"},\"colorscale\":[[0.0,\"#0d0887\"],[0.1111111111111111,\"#46039f\"],[0.2222222222222222,\"#7201a8\"],[0.3333333333333333,\"#9c179e\"],[0.4444444444444444,\"#bd3786\"],[0.5555555555555556,\"#d8576b\"],[0.6666666666666666,\"#ed7953\"],[0.7777777777777778,\"#fb9f3a\"],[0.8888888888888888,\"#fdca26\"],[1.0,\"#f0f921\"]]}],\"surface\":[{\"type\":\"surface\",\"colorbar\":{\"outlinewidth\":0,\"ticks\":\"\"},\"colorscale\":[[0.0,\"#0d0887\"],[0.1111111111111111,\"#46039f\"],[0.2222222222222222,\"#7201a8\"],[0.3333333333333333,\"#9c179e\"],[0.4444444444444444,\"#bd3786\"],[0.5555555555555556,\"#d8576b\"],[0.6666666666666666,\"#ed7953\"],[0.7777777777777778,\"#fb9f3a\"],[0.8888888888888888,\"#fdca26\"],[1.0,\"#f0f921\"]]}],\"mesh3d\":[{\"type\":\"mesh3d\",\"colorbar\":{\"outlinewidth\":0,\"ticks\":\"\"}}],\"scatter\":[{\"fillpattern\":{\"fillmode\":\"overlay\",\"size\":10,\"solidity\":0.2},\"type\":\"scatter\"}],\"parcoords\":[{\"type\":\"parcoords\",\"line\":{\"colorbar\":{\"outlinewidth\":0,\"ticks\":\"\"}}}],\"scatterpolargl\":[{\"type\":\"scatterpolargl\",\"marker\":{\"colorbar\":{\"outlinewidth\":0,\"ticks\":\"\"}}}],\"bar\":[{\"error_x\":{\"color\":\"#2a3f5f\"},\"error_y\":{\"color\":\"#2a3f5f\"},\"marker\":{\"line\":{\"color\":\"#E5ECF6\",\"width\":0.5},\"pattern\":{\"fillmode\":\"overlay\",\"size\":10,\"solidity\":0.2}},\"type\":\"bar\"}],\"scattergeo\":[{\"type\":\"scattergeo\",\"marker\":{\"colorbar\":{\"outlinewidth\":0,\"ticks\":\"\"}}}],\"scatterpolar\":[{\"type\":\"scatterpolar\",\"marker\":{\"colorbar\":{\"outlinewidth\":0,\"ticks\":\"\"}}}],\"histogram\":[{\"marker\":{\"pattern\":{\"fillmode\":\"overlay\",\"size\":10,\"solidity\":0.2}},\"type\":\"histogram\"}],\"scattergl\":[{\"type\":\"scattergl\",\"marker\":{\"colorbar\":{\"outlinewidth\":0,\"ticks\":\"\"}}}],\"scatter3d\":[{\"type\":\"scatter3d\",\"line\":{\"colorbar\":{\"outlinewidth\":0,\"ticks\":\"\"}},\"marker\":{\"colorbar\":{\"outlinewidth\":0,\"ticks\":\"\"}}}],\"scattermapbox\":[{\"type\":\"scattermapbox\",\"marker\":{\"colorbar\":{\"outlinewidth\":0,\"ticks\":\"\"}}}],\"scatterternary\":[{\"type\":\"scatterternary\",\"marker\":{\"colorbar\":{\"outlinewidth\":0,\"ticks\":\"\"}}}],\"scattercarpet\":[{\"type\":\"scattercarpet\",\"marker\":{\"colorbar\":{\"outlinewidth\":0,\"ticks\":\"\"}}}],\"carpet\":[{\"aaxis\":{\"endlinecolor\":\"#2a3f5f\",\"gridcolor\":\"white\",\"linecolor\":\"white\",\"minorgridcolor\":\"white\",\"startlinecolor\":\"#2a3f5f\"},\"baxis\":{\"endlinecolor\":\"#2a3f5f\",\"gridcolor\":\"white\",\"linecolor\":\"white\",\"minorgridcolor\":\"white\",\"startlinecolor\":\"#2a3f5f\"},\"type\":\"carpet\"}],\"table\":[{\"cells\":{\"fill\":{\"color\":\"#EBF0F8\"},\"line\":{\"color\":\"white\"}},\"header\":{\"fill\":{\"color\":\"#C8D4E3\"},\"line\":{\"color\":\"white\"}},\"type\":\"table\"}],\"barpolar\":[{\"marker\":{\"line\":{\"color\":\"#E5ECF6\",\"width\":0.5},\"pattern\":{\"fillmode\":\"overlay\",\"size\":10,\"solidity\":0.2}},\"type\":\"barpolar\"}],\"pie\":[{\"automargin\":true,\"type\":\"pie\"}]},\"layout\":{\"autotypenumbers\":\"strict\",\"colorway\":[\"#636efa\",\"#EF553B\",\"#00cc96\",\"#ab63fa\",\"#FFA15A\",\"#19d3f3\",\"#FF6692\",\"#B6E880\",\"#FF97FF\",\"#FECB52\"],\"font\":{\"color\":\"#2a3f5f\"},\"hovermode\":\"closest\",\"hoverlabel\":{\"align\":\"left\"},\"paper_bgcolor\":\"white\",\"plot_bgcolor\":\"#E5ECF6\",\"polar\":{\"bgcolor\":\"#E5ECF6\",\"angularaxis\":{\"gridcolor\":\"white\",\"linecolor\":\"white\",\"ticks\":\"\"},\"radialaxis\":{\"gridcolor\":\"white\",\"linecolor\":\"white\",\"ticks\":\"\"}},\"ternary\":{\"bgcolor\":\"#E5ECF6\",\"aaxis\":{\"gridcolor\":\"white\",\"linecolor\":\"white\",\"ticks\":\"\"},\"baxis\":{\"gridcolor\":\"white\",\"linecolor\":\"white\",\"ticks\":\"\"},\"caxis\":{\"gridcolor\":\"white\",\"linecolor\":\"white\",\"ticks\":\"\"}},\"coloraxis\":{\"colorbar\":{\"outlinewidth\":0,\"ticks\":\"\"}},\"colorscale\":{\"sequential\":[[0.0,\"#0d0887\"],[0.1111111111111111,\"#46039f\"],[0.2222222222222222,\"#7201a8\"],[0.3333333333333333,\"#9c179e\"],[0.4444444444444444,\"#bd3786\"],[0.5555555555555556,\"#d8576b\"],[0.6666666666666666,\"#ed7953\"],[0.7777777777777778,\"#fb9f3a\"],[0.8888888888888888,\"#fdca26\"],[1.0,\"#f0f921\"]],\"sequentialminus\":[[0.0,\"#0d0887\"],[0.1111111111111111,\"#46039f\"],[0.2222222222222222,\"#7201a8\"],[0.3333333333333333,\"#9c179e\"],[0.4444444444444444,\"#bd3786\"],[0.5555555555555556,\"#d8576b\"],[0.6666666666666666,\"#ed7953\"],[0.7777777777777778,\"#fb9f3a\"],[0.8888888888888888,\"#fdca26\"],[1.0,\"#f0f921\"]],\"diverging\":[[0,\"#8e0152\"],[0.1,\"#c51b7d\"],[0.2,\"#de77ae\"],[0.3,\"#f1b6da\"],[0.4,\"#fde0ef\"],[0.5,\"#f7f7f7\"],[0.6,\"#e6f5d0\"],[0.7,\"#b8e186\"],[0.8,\"#7fbc41\"],[0.9,\"#4d9221\"],[1,\"#276419\"]]},\"xaxis\":{\"gridcolor\":\"white\",\"linecolor\":\"white\",\"ticks\":\"\",\"title\":{\"standoff\":15},\"zerolinecolor\":\"white\",\"automargin\":true,\"zerolinewidth\":2},\"yaxis\":{\"gridcolor\":\"white\",\"linecolor\":\"white\",\"ticks\":\"\",\"title\":{\"standoff\":15},\"zerolinecolor\":\"white\",\"automargin\":true,\"zerolinewidth\":2},\"scene\":{\"xaxis\":{\"backgroundcolor\":\"#E5ECF6\",\"gridcolor\":\"white\",\"linecolor\":\"white\",\"showbackground\":true,\"ticks\":\"\",\"zerolinecolor\":\"white\",\"gridwidth\":2},\"yaxis\":{\"backgroundcolor\":\"#E5ECF6\",\"gridcolor\":\"white\",\"linecolor\":\"white\",\"showbackground\":true,\"ticks\":\"\",\"zerolinecolor\":\"white\",\"gridwidth\":2},\"zaxis\":{\"backgroundcolor\":\"#E5ECF6\",\"gridcolor\":\"white\",\"linecolor\":\"white\",\"showbackground\":true,\"ticks\":\"\",\"zerolinecolor\":\"white\",\"gridwidth\":2}},\"shapedefaults\":{\"line\":{\"color\":\"#2a3f5f\"}},\"annotationdefaults\":{\"arrowcolor\":\"#2a3f5f\",\"arrowhead\":0,\"arrowwidth\":1},\"geo\":{\"bgcolor\":\"white\",\"landcolor\":\"#E5ECF6\",\"subunitcolor\":\"white\",\"showland\":true,\"showlakes\":true,\"lakecolor\":\"white\"},\"title\":{\"x\":0.05},\"mapbox\":{\"style\":\"light\"}}},\"xaxis\":{\"anchor\":\"y\",\"domain\":[0.0,1.0],\"title\":{\"text\":\"Tokens\"}},\"yaxis\":{\"anchor\":\"x\",\"domain\":[0.0,1.0],\"title\":{\"text\":\"Probability\"}},\"legend\":{\"tracegroupgap\":0},\"margin\":{\"t\":60},\"barmode\":\"relative\",\"title\":{\"text\":\"Probability distribution of next tokens given the prompt=\\\"Jide was thirsty so she went looking for\\\"\"}},                        {\"responsive\": true}                    ).then(function(){\n",
              "                            \n",
              "var gd = document.getElementById('4a8daaaa-7b82-419c-aaab-2a9bbc0819ce');\n",
              "var x = new MutationObserver(function (mutations, observer) {{\n",
              "        var display = window.getComputedStyle(gd).display;\n",
              "        if (!display || display === 'none') {{\n",
              "            console.log([gd, 'removed!']);\n",
              "            Plotly.purge(gd);\n",
              "            observer.disconnect();\n",
              "        }}\n",
              "}});\n",
              "\n",
              "// Listen for the removal of the full notebook cells\n",
              "var notebookContainer = gd.closest('#notebook-container');\n",
              "if (notebookContainer) {{\n",
              "    x.observe(notebookContainer, {childList: true});\n",
              "}}\n",
              "\n",
              "// Listen for the clearing of the current output cell\n",
              "var outputEl = gd.closest('.output');\n",
              "if (outputEl) {{\n",
              "    x.observe(outputEl, {childList: true});\n",
              "}}\n",
              "\n",
              "                        })                };                            </script>        </div>\n",
              "</body>\n",
              "</html>"
            ]
          },
          "metadata": {}
        }
      ],
      "source": [
        "prompt = \"Jide was thirsty so she went looking for\" #@param {type: \"string\"}\n",
        "num_tokens_to_generate = 10 #@param {type: \"number\"}\n",
        "generated_text, probs = generation.generate_text(\n",
        "    prompt,\n",
        "    num_tokens_to_generate,\n",
        "    model=model,\n",
        "    tokenizer=tokenizer,\n",
        "    pad_token_id=tokenizer.pad_token_id,\n",
        "    sampling_mode=\"random\",\n",
        ")\n",
        "\n",
        "print(\"Generated text:\", generated_text)\n",
        "print(\"\\n\")\n",
        "\n",
        "visualizations.plot_next_token(probs[0], prompt=prompt, tokenizer=tokenizer)"
      ]
    },
    {
      "cell_type": "markdown",
      "metadata": {
        "id": "HHrgLwtmoY2w"
      },
      "source": [
        "## Summary\n",
        "\n",
        "This is the end of the **Train your own small language model** lab.\n",
        "\n",
        "In this lab, you trained your first SLM and engaged in the following steps.\n",
        "\n",
        "- **Tokenized the dataset:** You used the `SimpleWordTokenizer` from the previous lab to tokenize and convert the paragraphs in the dataset to token IDs.\n",
        "\n",
        "- **Padded the paragraphs:** You ensured all paragraphs had the same length by truncating some of them and padding others with a special `\"<PAD>\"` token. This is crucial for processing data in neural networks, such as transformer language models.\n",
        "\n",
        "- **Prepared the input and target data:** You created input-target pairs, where the target is the input sequence shifted by one token. This teaches the model to predict the next token based on the context of previous tokens.\n",
        "\n",
        "- **Shuffled and batched the data:** You shuffled the dataset to increase the diversity of the data within each batch and grouped the paragraphs into batches for training.\n",
        "\n",
        "- **Trained the SLM:** You defined and trained a small transformer model, observing how the training loss decreased during training.\n",
        "\n",
        "- **Prompted the trained model:** You experimented with prompting the model, observing its ability to predict the likely next word, generate coherent text, and adapt to changes in context.\n",
        "\n",
        "As you performed your evaluations, you may have noticed that some of the model predictions are not as good as the ones that you have seen with the Gemma model. This is expected since your model is a lot smaller than the Gemma model. It has been trained on *a lot* less text data. Nevertheless, your model should be able to produce grammatical sentences, even if they do not always make a lot of sense.\n",
        "\n",
        "In the next section of the course, you will explore model evaluation in a little more depth. You will then move on to think about the kinds of problems you are interested in using language models to address."
      ]
    },
    {
      "cell_type": "markdown",
      "source": [
        "## Solutions\n",
        "\n",
        "The following cells provide reference solutions to the coding activities above. If you really get stuck after trying to solve the activities yourself, you may want to consult these solutions.\n",
        "\n",
        "However, we recommend that you *only* look at the solutions after you have tried to solve the activities above *multiple times*. The best way to learn challenging concepts in computer science and artifical intelligence is to debug your code piece by piece until it works rather than copying existing solutions.\n",
        "\n",
        "If you feel stuck, you may want to first try to debug your code, for example, by adding additional print statements to see what your code is doing at every step. This will provide you with a much deeper understanding of the code and the materials. It will also make you practice how to solve challenging coding problems beyond this course.\n",
        "\n",
        "To view the solutions for an activity, click on the arrow to the left of the activity name. If you consult the solutions, do not copy and paste them into the cells above. Instead, look at them and then type them manually into the cell. This will help you understand where you went wrong."
      ],
      "metadata": {
        "id": "TbCry1ll6L9g"
      }
    },
    {
      "cell_type": "markdown",
      "source": [
        "### Coding Activity 1"
      ],
      "metadata": {
        "id": "4NJgcGxO6UDE"
      }
    },
    {
      "metadata": {
        "id": "UD38Eu8K7sXg"
      },
      "cell_type": "code",
      "source": [
        "# Add this code in the cell for Activity 1 above.\n",
        "longest_paragraph_length = len(max(encoded_tokens, key=len))\n",
        "shortest_paragraph_length = len(min(encoded_tokens, key=len))\n"
      ],
      "outputs": [],
      "execution_count": null
    }
  ],
  "metadata": {
    "accelerator": "GPU",
    "colab": {
      "gpuType": "T4",
      "provenance": [],
      "collapsed_sections": [
        "NDWsJUGcf4Ru",
        "TbCry1ll6L9g",
        "4NJgcGxO6UDE"
      ]
    },
    "kernelspec": {
      "display_name": "Python 3",
      "name": "python3"
    },
    "language_info": {
      "name": "python"
    }
  },
  "nbformat": 4,
  "nbformat_minor": 0
}